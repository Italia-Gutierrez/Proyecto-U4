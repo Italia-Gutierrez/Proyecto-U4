{
  "nbformat": 4,
  "nbformat_minor": 0,
  "metadata": {
    "colab": {
      "provenance": []
    },
    "kernelspec": {
      "name": "python3",
      "display_name": "Python 3"
    },
    "language_info": {
      "name": "python"
    }
  },
  "cells": [
    {
      "cell_type": "markdown",
      "source": [
        "# Introducción"
      ],
      "metadata": {
        "id": "UQMoW7mYphw4"
      }
    },
    {
      "cell_type": "markdown",
      "source": [
        "En el presente documento se realizará un proyecto con todo lo visto en la unidad 4, en este se plantea realizar un análisis de cada cosa que se obtenga en la tabla que cuente con alguno de los supuestos de Normalidad y Homocedasticidad. Como tal el documento o la información del csv consiste en factores que afectan las calificaciones en el alumnado y se busca realizar un análsisi de cada uno de estos"
      ],
      "metadata": {
        "id": "mMtSe1ndplhO"
      }
    },
    {
      "cell_type": "markdown",
      "source": [
        "# Marco Teórico"
      ],
      "metadata": {
        "id": "2ETVuFXdtk1_"
      }
    },
    {
      "cell_type": "markdown",
      "source": [
        "* **Prueba Kruskal-Wallis:** Es una prueba no paramétrica basada en el rango que puede utilizarse para corroborar si existen diferencias relevantes a nivel estadístico entre dos o más grupos de una variable independiente en una variable dependiente ordinal o continua. La prueba determina si las medianas de dos o más grupos son diferentes. De esta forma, calcula un estadístico de prueba y lo compara con un punto de corte de la distribución.\n",
        "\n",
        "  El estadístico de prueba utilizado se denomina estadístico H. Las hipótesis de la prueba son:\n",
        "\n",
        "  + H0: las medianas de la población son iguales.\n",
        "  + H1: las medianas de la población no son iguales.\n",
        "  \n",
        "  La prueba H se utiliza cuando no se cumplen los supuestos del ANOVA (como el supuesto de normalidad). A veces se denomina ANOVA unidireccional sobre rangos, ya que en la prueba se utilizan los rangos de los valores de los datos en lugar de los puntos de datos reales.\n",
        "\n",
        "  Al ser no paramétrica, la prueba no asume que los datos provienen de una distribución particular. La prueba de Kruskal Wallis te dirá si hay una diferencia significativa entre los grupos. Sin embargo, no dirá qué grupos son diferentes.\n",
        "\n",
        "  Algunas de las ventajas de utilizar los modelos de Kruskal Wallis son:\n",
        "\n",
        "  Puede aplicarse a un gran número de situaciones.\n",
        "Se puede entender fácilmente de forma intuitiva.\n",
        "Puede utilizarse con tamaños de muestra más pequeños.\n",
        "Puede utilizarse con diversos tipos de datos.\n",
        "Necesita menos supuestos o menos estrictos sobre la naturaleza de la distribución de la población.\n",
        "Es generalmente robusto y no suele verse afectado por valores extremos en los datos, como los valores atípicos.\n",
        "Tiene un alto nivel de eficiencia relativa asintótica en comparación con las pruebas paramétricas clásicas.\n",
        "---\n",
        "+ **Exámenes:**\n",
        " + Tienen sus raíces en la antigua China imperial, durante la dinastía Han (206 a.C. – 220 d.C.). Para garantizar que los funcionarios públicos estuvieran altamente capacitados, se implementaron exámenes escritos conocidos como los “keju”. Estos exámenes evaluaban el conocimiento en literatura, historia y filosofía confuciana, y quienes los superaban tenían la oportunidad de acceder a puestos gubernamentales de prestigio. Como se sabe, no todos en esa época tenían el prvilegio de estudiar, solo las familias más prestigiads contaban con educación.\n",
        " + Durante la Edad Media, surgieron las primeras universidades en Europa, como la Universidad de Bolonia y la Universidad de París. Aunque no existían exámenes formales, la selección de estudiantes era rigurosa y se basaba en entrevistas, referencias y la capacidad financiera del aspirante. La educación estaba reservada para una élite, y la admisión estaba más vinculada al estatus social que a la meritocracia.\n",
        " + A mediados del siglo XIX, la Universidad de Cambridge introdujo un sistema de exámenes estandarizados que se asemeja más al modelo contemporáneo. Este sistema se basaba en pruebas escritas y orales, y su éxito llevó a otras instituciones educativas a adoptar prácticas similares. Surgió la necesidad de evaluar de manera objetiva el conocimiento y las habilidades de los aspirantes, abriendo las puertas a la democratización de la educación.\n",
        " ---\n",
        " + **Tarea:**\n",
        " El término tarea o tarea escolar se remonta a los primeros años de la educación formal. En la antigüedad, la educación se brindaba principalmente a unos pocos privilegiados y se enfocaba principalmente en memorizar textos relevantes y desarrollar habilidades de pensamiento crítico. A lo largo de la Edad Media, el surgimiento de las universidades condujo a un enfoque más formalizado de la enseñanza, con estudiantes que asistían a conferencias y completaban tareas fuera de clase. Estas asignaciones tomaban constantemente la forma de ensayos escritos, presentaciones y pruebas orales, y estaban diseñadas para ayudar a los estudiantes a desarrollar sus habilidades de escritura e investigación.\n",
        "  \n",
        "    En el siglo XIX, con el aumento de la educación obligatoria y la introducción de planes de estudios estandarizados, la tarea se convirtió en una práctica más generalizada. Los maestros comenzaron a asignar a los estudiantes tareas y ejercicios regulares para reforzar los conceptos aprendidos en clase y fomentar el estudio independiente.\n",
        "\n",
        "    Un nombre que resalta mucho al buscar información sobre el tema es el de Roberto Nevilis, un profesor italiano, quien en 1905 acuñó el término y hoy en día es considerado el padre del concepto de tarea escolar. Se cuenta que esta actividad fue creada como una herramienta de castigo, no obstante, los alumnos desarrollan habilidades como la autodisciplina, la organización y la gestión de tiempo.\n",
        "\n",
        "    ---\n",
        "    + **Porcentajes:**\n",
        "    \n",
        "    La República Mexicana tiene una extensión de 1,964,375 km2 y cuenta con una población de 126,014,024 de habitantes, de los cuales el 51.2% son mujeres y el 48.8% son hombres. El grado promedio de escolaridad es de 9.9 años y el analfabetismo es del 4.5%. Para el ciclo escolar 2021-2022 le corresponde una matrícula total de 34,413,485 estudiantes, de los cuales 17,374,293 (50.5%) son mujeres y 17,039,192 (49.5%) son hombres. Distribuida por tipo educativo la composición de la matrícula del sistema escolarizado es la siguiente: educación básica 73.1% (inicial 0.6%, preescolar 12.6%, primaria 40.8% y secundaria 19.1%), educación media superior 14.7% y educación superior 12.1%.\n",
        "\n",
        "    En educación primaria la cobertura es del 101.7%, mientras que la tasa neta de escolarización es del 96.3%. El abandono escolar es del 0.4%, la reprobación del 0.5% y la eficiencia terminal del 97.0%. En educación secundaria la cobertura es del 94.7%, mientras que la tasa neta de escolarización es del 83.9%. El abandono escolar es del 2.5%, la reprobación del 2.2% y la eficiencia terminal del 92.9%. En educación media superior la cobertura es del 72.9%, mientras que la tasa neta de escolarización es del 60.7%. El abandono escolar es del 9.2%, la reprobación del 12.1%, la absorción del 90.3% y la eficiencia terminal del 70.2%. En educación superior la cobertura es del 30.6%, el abandono escolar es del 8.5% y la absorción del 68.1%.\n",
        "\n",
        "\n",
        "\n"
      ],
      "metadata": {
        "id": "-EGdV_pMtpGV"
      }
    },
    {
      "cell_type": "markdown",
      "source": [
        "# Metodología"
      ],
      "metadata": {
        "id": "sPJgh9q-tpWM"
      }
    },
    {
      "cell_type": "markdown",
      "source": [
        "1. Primero se importan los codigos a utilizar para que el resto del código se pueda ejecutar de la mejor manera\n",
        "2. En Github se extraerá el link csv para realizar el perspectivo análisis de cada uno de los fatores presentados. EN GitHub se sube elarchivo descargado en plataforma, se da clic y en donde dice Raw es donde obtendremos el link.\n",
        "3. Despues se realizará la visualización de las columnas de las tablas para ver todos a los que se le va a realizar el análisis. utilizando **df.columns**\n",
        "4. Se empezará con el primer factor que es participación parental, utilizando el código: ***df['Factor'].unique()***\n",
        "5. Se realiza el supuesto de normalidad con Shapiro y la comparativa se realizará entre el factor y la calificación que hay en el exámen ya que se busca analizar la influencia que tiene uno con otro para ver que tanto afecta el desempeño del alumnado\n",
        "6. Se realizará el supuesto de Homocedasticidad con Bartlett\n",
        "7. Si cumple con ambos supuestos se proseguirá y se realizará la prueba Anova junto con la de Tukey, y si no cumplen con la normalidad se realizará la prueba de Kruskal ya para obtener los datos esperados\n",
        "8. Los pasos van a seguir siendo los mismos en cada uno que se realice\n",
        "\n",
        "\n"
      ],
      "metadata": {
        "id": "dJ0pLFxntr4r"
      }
    },
    {
      "cell_type": "markdown",
      "source": [
        "\n",
        "\n",
        "# Proyecto\n",
        "\n"
      ],
      "metadata": {
        "id": "pwFPifqwpTFu"
      }
    },
    {
      "cell_type": "code",
      "source": [
        "import pandas as pd\n",
        "import scipy.stats as stats\n",
        "import warnings\n",
        "from statsmodels.stats.multicomp import pairwise_tukeyhsd\n",
        "import matplotlib.pyplot as plt\n",
        "from io import StringIO\n",
        "from scipy.stats import bartlett\n",
        "from scipy.stats import shapiro\n",
        "# Suprimir todos los warnings\n",
        "warnings.filterwarnings('ignore')"
      ],
      "metadata": {
        "id": "Kjd5P5Qvox6H"
      },
      "execution_count": 1,
      "outputs": []
    },
    {
      "cell_type": "code",
      "execution_count": 2,
      "metadata": {
        "colab": {
          "base_uri": "https://localhost:8080/",
          "height": 444
        },
        "id": "uW67gFxOmoeM",
        "outputId": "4de78212-62ab-4860-a810-94f71181a5a8"
      },
      "outputs": [
        {
          "output_type": "execute_result",
          "data": {
            "text/plain": [
              "      horas_estudio  asistencia participacion_parental acceso_a_recursos  \\\n",
              "0                23          84                   bajo           elevado   \n",
              "1                19          64                   bajo             medio   \n",
              "2                24          98                  medio              bajo   \n",
              "3                29          89                   bajo             medio   \n",
              "4                19          92                  medio              bajo   \n",
              "...             ...         ...                    ...               ...   \n",
              "6602             25          69                elevado             medio   \n",
              "6603             23          76                elevado             medio   \n",
              "6604             20          90                  medio              bajo   \n",
              "6605             10          86                elevado           elevado   \n",
              "6606             15          67                  medio              bajo   \n",
              "\n",
              "     actividades_extracurriculares  horas_suenio  calificaciones_previas  \\\n",
              "0                               no             7                      73   \n",
              "1                               no             8                      59   \n",
              "2                               si             7                      91   \n",
              "3                               si             8                      98   \n",
              "4                               si             6                      65   \n",
              "...                            ...           ...                     ...   \n",
              "6602                            no             7                      76   \n",
              "6603                            no             8                      81   \n",
              "6604                            si             6                      65   \n",
              "6605                            si             6                      91   \n",
              "6606                            si             9                      94   \n",
              "\n",
              "     nivel_motivacion acceso_internet  sesiones_tutoria ingreso_familiar  \\\n",
              "0                bajo              si                 0             bajo   \n",
              "1                bajo              si                 2            medio   \n",
              "2               medio              si                 2            medio   \n",
              "3               medio              si                 1            medio   \n",
              "4               medio              si                 3            medio   \n",
              "...               ...             ...               ...              ...   \n",
              "6602            medio              si                 1          elevado   \n",
              "6603            medio              si                 3             bajo   \n",
              "6604             bajo              si                 3             bajo   \n",
              "6605          elevado              si                 2             bajo   \n",
              "6606            medio              si                 0            medio   \n",
              "\n",
              "     calidad_profesorado tipo_escuela influencia_companieros  \\\n",
              "0                  medio      publico               positivo   \n",
              "1                   bajo      publico               negativo   \n",
              "2                   bajo      publico                neutral   \n",
              "3                   bajo      publico               negativo   \n",
              "4                elevado      publico                neutral   \n",
              "...                  ...          ...                    ...   \n",
              "6602               medio      publico               positivo   \n",
              "6603             elevado      publico               positivo   \n",
              "6604               medio      publico               negativo   \n",
              "6605               medio      privado               positivo   \n",
              "6606                bajo      publico               positivo   \n",
              "\n",
              "      actividad_fisica discapacidad_aprendizaje nivel_estudio_padres  \\\n",
              "0                    3                       no         preparatoria   \n",
              "1                    4                       no          universidad   \n",
              "2                    4                       no             posgrado   \n",
              "3                    4                       no         preparatoria   \n",
              "4                    4                       no          universidad   \n",
              "...                ...                      ...                  ...   \n",
              "6602                 2                       no         preparatoria   \n",
              "6603                 2                       no         preparatoria   \n",
              "6604                 2                       no             posgrado   \n",
              "6605                 3                       no         preparatoria   \n",
              "6606                 4                       no             posgrado   \n",
              "\n",
              "     distancia  genero  puntaje_examen  \n",
              "0      cercano  hombre              67  \n",
              "1     moderado   mujer              61  \n",
              "2      cercano  hombre              74  \n",
              "3     moderado  hombre              71  \n",
              "4      cercano   mujer              70  \n",
              "...        ...     ...             ...  \n",
              "6602   cercano   mujer              68  \n",
              "6603   cercano   mujer              69  \n",
              "6604   cercano   mujer              68  \n",
              "6605    lejano   mujer              68  \n",
              "6606   cercano  hombre              64  \n",
              "\n",
              "[6607 rows x 20 columns]"
            ],
            "text/html": [
              "\n",
              "  <div id=\"df-4b3c566f-9838-4b1c-ae02-8f694191e197\" class=\"colab-df-container\">\n",
              "    <div>\n",
              "<style scoped>\n",
              "    .dataframe tbody tr th:only-of-type {\n",
              "        vertical-align: middle;\n",
              "    }\n",
              "\n",
              "    .dataframe tbody tr th {\n",
              "        vertical-align: top;\n",
              "    }\n",
              "\n",
              "    .dataframe thead th {\n",
              "        text-align: right;\n",
              "    }\n",
              "</style>\n",
              "<table border=\"1\" class=\"dataframe\">\n",
              "  <thead>\n",
              "    <tr style=\"text-align: right;\">\n",
              "      <th></th>\n",
              "      <th>horas_estudio</th>\n",
              "      <th>asistencia</th>\n",
              "      <th>participacion_parental</th>\n",
              "      <th>acceso_a_recursos</th>\n",
              "      <th>actividades_extracurriculares</th>\n",
              "      <th>horas_suenio</th>\n",
              "      <th>calificaciones_previas</th>\n",
              "      <th>nivel_motivacion</th>\n",
              "      <th>acceso_internet</th>\n",
              "      <th>sesiones_tutoria</th>\n",
              "      <th>ingreso_familiar</th>\n",
              "      <th>calidad_profesorado</th>\n",
              "      <th>tipo_escuela</th>\n",
              "      <th>influencia_companieros</th>\n",
              "      <th>actividad_fisica</th>\n",
              "      <th>discapacidad_aprendizaje</th>\n",
              "      <th>nivel_estudio_padres</th>\n",
              "      <th>distancia</th>\n",
              "      <th>genero</th>\n",
              "      <th>puntaje_examen</th>\n",
              "    </tr>\n",
              "  </thead>\n",
              "  <tbody>\n",
              "    <tr>\n",
              "      <th>0</th>\n",
              "      <td>23</td>\n",
              "      <td>84</td>\n",
              "      <td>bajo</td>\n",
              "      <td>elevado</td>\n",
              "      <td>no</td>\n",
              "      <td>7</td>\n",
              "      <td>73</td>\n",
              "      <td>bajo</td>\n",
              "      <td>si</td>\n",
              "      <td>0</td>\n",
              "      <td>bajo</td>\n",
              "      <td>medio</td>\n",
              "      <td>publico</td>\n",
              "      <td>positivo</td>\n",
              "      <td>3</td>\n",
              "      <td>no</td>\n",
              "      <td>preparatoria</td>\n",
              "      <td>cercano</td>\n",
              "      <td>hombre</td>\n",
              "      <td>67</td>\n",
              "    </tr>\n",
              "    <tr>\n",
              "      <th>1</th>\n",
              "      <td>19</td>\n",
              "      <td>64</td>\n",
              "      <td>bajo</td>\n",
              "      <td>medio</td>\n",
              "      <td>no</td>\n",
              "      <td>8</td>\n",
              "      <td>59</td>\n",
              "      <td>bajo</td>\n",
              "      <td>si</td>\n",
              "      <td>2</td>\n",
              "      <td>medio</td>\n",
              "      <td>bajo</td>\n",
              "      <td>publico</td>\n",
              "      <td>negativo</td>\n",
              "      <td>4</td>\n",
              "      <td>no</td>\n",
              "      <td>universidad</td>\n",
              "      <td>moderado</td>\n",
              "      <td>mujer</td>\n",
              "      <td>61</td>\n",
              "    </tr>\n",
              "    <tr>\n",
              "      <th>2</th>\n",
              "      <td>24</td>\n",
              "      <td>98</td>\n",
              "      <td>medio</td>\n",
              "      <td>bajo</td>\n",
              "      <td>si</td>\n",
              "      <td>7</td>\n",
              "      <td>91</td>\n",
              "      <td>medio</td>\n",
              "      <td>si</td>\n",
              "      <td>2</td>\n",
              "      <td>medio</td>\n",
              "      <td>bajo</td>\n",
              "      <td>publico</td>\n",
              "      <td>neutral</td>\n",
              "      <td>4</td>\n",
              "      <td>no</td>\n",
              "      <td>posgrado</td>\n",
              "      <td>cercano</td>\n",
              "      <td>hombre</td>\n",
              "      <td>74</td>\n",
              "    </tr>\n",
              "    <tr>\n",
              "      <th>3</th>\n",
              "      <td>29</td>\n",
              "      <td>89</td>\n",
              "      <td>bajo</td>\n",
              "      <td>medio</td>\n",
              "      <td>si</td>\n",
              "      <td>8</td>\n",
              "      <td>98</td>\n",
              "      <td>medio</td>\n",
              "      <td>si</td>\n",
              "      <td>1</td>\n",
              "      <td>medio</td>\n",
              "      <td>bajo</td>\n",
              "      <td>publico</td>\n",
              "      <td>negativo</td>\n",
              "      <td>4</td>\n",
              "      <td>no</td>\n",
              "      <td>preparatoria</td>\n",
              "      <td>moderado</td>\n",
              "      <td>hombre</td>\n",
              "      <td>71</td>\n",
              "    </tr>\n",
              "    <tr>\n",
              "      <th>4</th>\n",
              "      <td>19</td>\n",
              "      <td>92</td>\n",
              "      <td>medio</td>\n",
              "      <td>bajo</td>\n",
              "      <td>si</td>\n",
              "      <td>6</td>\n",
              "      <td>65</td>\n",
              "      <td>medio</td>\n",
              "      <td>si</td>\n",
              "      <td>3</td>\n",
              "      <td>medio</td>\n",
              "      <td>elevado</td>\n",
              "      <td>publico</td>\n",
              "      <td>neutral</td>\n",
              "      <td>4</td>\n",
              "      <td>no</td>\n",
              "      <td>universidad</td>\n",
              "      <td>cercano</td>\n",
              "      <td>mujer</td>\n",
              "      <td>70</td>\n",
              "    </tr>\n",
              "    <tr>\n",
              "      <th>...</th>\n",
              "      <td>...</td>\n",
              "      <td>...</td>\n",
              "      <td>...</td>\n",
              "      <td>...</td>\n",
              "      <td>...</td>\n",
              "      <td>...</td>\n",
              "      <td>...</td>\n",
              "      <td>...</td>\n",
              "      <td>...</td>\n",
              "      <td>...</td>\n",
              "      <td>...</td>\n",
              "      <td>...</td>\n",
              "      <td>...</td>\n",
              "      <td>...</td>\n",
              "      <td>...</td>\n",
              "      <td>...</td>\n",
              "      <td>...</td>\n",
              "      <td>...</td>\n",
              "      <td>...</td>\n",
              "      <td>...</td>\n",
              "    </tr>\n",
              "    <tr>\n",
              "      <th>6602</th>\n",
              "      <td>25</td>\n",
              "      <td>69</td>\n",
              "      <td>elevado</td>\n",
              "      <td>medio</td>\n",
              "      <td>no</td>\n",
              "      <td>7</td>\n",
              "      <td>76</td>\n",
              "      <td>medio</td>\n",
              "      <td>si</td>\n",
              "      <td>1</td>\n",
              "      <td>elevado</td>\n",
              "      <td>medio</td>\n",
              "      <td>publico</td>\n",
              "      <td>positivo</td>\n",
              "      <td>2</td>\n",
              "      <td>no</td>\n",
              "      <td>preparatoria</td>\n",
              "      <td>cercano</td>\n",
              "      <td>mujer</td>\n",
              "      <td>68</td>\n",
              "    </tr>\n",
              "    <tr>\n",
              "      <th>6603</th>\n",
              "      <td>23</td>\n",
              "      <td>76</td>\n",
              "      <td>elevado</td>\n",
              "      <td>medio</td>\n",
              "      <td>no</td>\n",
              "      <td>8</td>\n",
              "      <td>81</td>\n",
              "      <td>medio</td>\n",
              "      <td>si</td>\n",
              "      <td>3</td>\n",
              "      <td>bajo</td>\n",
              "      <td>elevado</td>\n",
              "      <td>publico</td>\n",
              "      <td>positivo</td>\n",
              "      <td>2</td>\n",
              "      <td>no</td>\n",
              "      <td>preparatoria</td>\n",
              "      <td>cercano</td>\n",
              "      <td>mujer</td>\n",
              "      <td>69</td>\n",
              "    </tr>\n",
              "    <tr>\n",
              "      <th>6604</th>\n",
              "      <td>20</td>\n",
              "      <td>90</td>\n",
              "      <td>medio</td>\n",
              "      <td>bajo</td>\n",
              "      <td>si</td>\n",
              "      <td>6</td>\n",
              "      <td>65</td>\n",
              "      <td>bajo</td>\n",
              "      <td>si</td>\n",
              "      <td>3</td>\n",
              "      <td>bajo</td>\n",
              "      <td>medio</td>\n",
              "      <td>publico</td>\n",
              "      <td>negativo</td>\n",
              "      <td>2</td>\n",
              "      <td>no</td>\n",
              "      <td>posgrado</td>\n",
              "      <td>cercano</td>\n",
              "      <td>mujer</td>\n",
              "      <td>68</td>\n",
              "    </tr>\n",
              "    <tr>\n",
              "      <th>6605</th>\n",
              "      <td>10</td>\n",
              "      <td>86</td>\n",
              "      <td>elevado</td>\n",
              "      <td>elevado</td>\n",
              "      <td>si</td>\n",
              "      <td>6</td>\n",
              "      <td>91</td>\n",
              "      <td>elevado</td>\n",
              "      <td>si</td>\n",
              "      <td>2</td>\n",
              "      <td>bajo</td>\n",
              "      <td>medio</td>\n",
              "      <td>privado</td>\n",
              "      <td>positivo</td>\n",
              "      <td>3</td>\n",
              "      <td>no</td>\n",
              "      <td>preparatoria</td>\n",
              "      <td>lejano</td>\n",
              "      <td>mujer</td>\n",
              "      <td>68</td>\n",
              "    </tr>\n",
              "    <tr>\n",
              "      <th>6606</th>\n",
              "      <td>15</td>\n",
              "      <td>67</td>\n",
              "      <td>medio</td>\n",
              "      <td>bajo</td>\n",
              "      <td>si</td>\n",
              "      <td>9</td>\n",
              "      <td>94</td>\n",
              "      <td>medio</td>\n",
              "      <td>si</td>\n",
              "      <td>0</td>\n",
              "      <td>medio</td>\n",
              "      <td>bajo</td>\n",
              "      <td>publico</td>\n",
              "      <td>positivo</td>\n",
              "      <td>4</td>\n",
              "      <td>no</td>\n",
              "      <td>posgrado</td>\n",
              "      <td>cercano</td>\n",
              "      <td>hombre</td>\n",
              "      <td>64</td>\n",
              "    </tr>\n",
              "  </tbody>\n",
              "</table>\n",
              "<p>6607 rows × 20 columns</p>\n",
              "</div>\n",
              "    <div class=\"colab-df-buttons\">\n",
              "\n",
              "  <div class=\"colab-df-container\">\n",
              "    <button class=\"colab-df-convert\" onclick=\"convertToInteractive('df-4b3c566f-9838-4b1c-ae02-8f694191e197')\"\n",
              "            title=\"Convert this dataframe to an interactive table.\"\n",
              "            style=\"display:none;\">\n",
              "\n",
              "  <svg xmlns=\"http://www.w3.org/2000/svg\" height=\"24px\" viewBox=\"0 -960 960 960\">\n",
              "    <path d=\"M120-120v-720h720v720H120Zm60-500h600v-160H180v160Zm220 220h160v-160H400v160Zm0 220h160v-160H400v160ZM180-400h160v-160H180v160Zm440 0h160v-160H620v160ZM180-180h160v-160H180v160Zm440 0h160v-160H620v160Z\"/>\n",
              "  </svg>\n",
              "    </button>\n",
              "\n",
              "  <style>\n",
              "    .colab-df-container {\n",
              "      display:flex;\n",
              "      gap: 12px;\n",
              "    }\n",
              "\n",
              "    .colab-df-convert {\n",
              "      background-color: #E8F0FE;\n",
              "      border: none;\n",
              "      border-radius: 50%;\n",
              "      cursor: pointer;\n",
              "      display: none;\n",
              "      fill: #1967D2;\n",
              "      height: 32px;\n",
              "      padding: 0 0 0 0;\n",
              "      width: 32px;\n",
              "    }\n",
              "\n",
              "    .colab-df-convert:hover {\n",
              "      background-color: #E2EBFA;\n",
              "      box-shadow: 0px 1px 2px rgba(60, 64, 67, 0.3), 0px 1px 3px 1px rgba(60, 64, 67, 0.15);\n",
              "      fill: #174EA6;\n",
              "    }\n",
              "\n",
              "    .colab-df-buttons div {\n",
              "      margin-bottom: 4px;\n",
              "    }\n",
              "\n",
              "    [theme=dark] .colab-df-convert {\n",
              "      background-color: #3B4455;\n",
              "      fill: #D2E3FC;\n",
              "    }\n",
              "\n",
              "    [theme=dark] .colab-df-convert:hover {\n",
              "      background-color: #434B5C;\n",
              "      box-shadow: 0px 1px 3px 1px rgba(0, 0, 0, 0.15);\n",
              "      filter: drop-shadow(0px 1px 2px rgba(0, 0, 0, 0.3));\n",
              "      fill: #FFFFFF;\n",
              "    }\n",
              "  </style>\n",
              "\n",
              "    <script>\n",
              "      const buttonEl =\n",
              "        document.querySelector('#df-4b3c566f-9838-4b1c-ae02-8f694191e197 button.colab-df-convert');\n",
              "      buttonEl.style.display =\n",
              "        google.colab.kernel.accessAllowed ? 'block' : 'none';\n",
              "\n",
              "      async function convertToInteractive(key) {\n",
              "        const element = document.querySelector('#df-4b3c566f-9838-4b1c-ae02-8f694191e197');\n",
              "        const dataTable =\n",
              "          await google.colab.kernel.invokeFunction('convertToInteractive',\n",
              "                                                    [key], {});\n",
              "        if (!dataTable) return;\n",
              "\n",
              "        const docLinkHtml = 'Like what you see? Visit the ' +\n",
              "          '<a target=\"_blank\" href=https://colab.research.google.com/notebooks/data_table.ipynb>data table notebook</a>'\n",
              "          + ' to learn more about interactive tables.';\n",
              "        element.innerHTML = '';\n",
              "        dataTable['output_type'] = 'display_data';\n",
              "        await google.colab.output.renderOutput(dataTable, element);\n",
              "        const docLink = document.createElement('div');\n",
              "        docLink.innerHTML = docLinkHtml;\n",
              "        element.appendChild(docLink);\n",
              "      }\n",
              "    </script>\n",
              "  </div>\n",
              "\n",
              "\n",
              "<div id=\"df-ea069f6f-bdfd-432a-8c97-aa52618838f0\">\n",
              "  <button class=\"colab-df-quickchart\" onclick=\"quickchart('df-ea069f6f-bdfd-432a-8c97-aa52618838f0')\"\n",
              "            title=\"Suggest charts\"\n",
              "            style=\"display:none;\">\n",
              "\n",
              "<svg xmlns=\"http://www.w3.org/2000/svg\" height=\"24px\"viewBox=\"0 0 24 24\"\n",
              "     width=\"24px\">\n",
              "    <g>\n",
              "        <path d=\"M19 3H5c-1.1 0-2 .9-2 2v14c0 1.1.9 2 2 2h14c1.1 0 2-.9 2-2V5c0-1.1-.9-2-2-2zM9 17H7v-7h2v7zm4 0h-2V7h2v10zm4 0h-2v-4h2v4z\"/>\n",
              "    </g>\n",
              "</svg>\n",
              "  </button>\n",
              "\n",
              "<style>\n",
              "  .colab-df-quickchart {\n",
              "      --bg-color: #E8F0FE;\n",
              "      --fill-color: #1967D2;\n",
              "      --hover-bg-color: #E2EBFA;\n",
              "      --hover-fill-color: #174EA6;\n",
              "      --disabled-fill-color: #AAA;\n",
              "      --disabled-bg-color: #DDD;\n",
              "  }\n",
              "\n",
              "  [theme=dark] .colab-df-quickchart {\n",
              "      --bg-color: #3B4455;\n",
              "      --fill-color: #D2E3FC;\n",
              "      --hover-bg-color: #434B5C;\n",
              "      --hover-fill-color: #FFFFFF;\n",
              "      --disabled-bg-color: #3B4455;\n",
              "      --disabled-fill-color: #666;\n",
              "  }\n",
              "\n",
              "  .colab-df-quickchart {\n",
              "    background-color: var(--bg-color);\n",
              "    border: none;\n",
              "    border-radius: 50%;\n",
              "    cursor: pointer;\n",
              "    display: none;\n",
              "    fill: var(--fill-color);\n",
              "    height: 32px;\n",
              "    padding: 0;\n",
              "    width: 32px;\n",
              "  }\n",
              "\n",
              "  .colab-df-quickchart:hover {\n",
              "    background-color: var(--hover-bg-color);\n",
              "    box-shadow: 0 1px 2px rgba(60, 64, 67, 0.3), 0 1px 3px 1px rgba(60, 64, 67, 0.15);\n",
              "    fill: var(--button-hover-fill-color);\n",
              "  }\n",
              "\n",
              "  .colab-df-quickchart-complete:disabled,\n",
              "  .colab-df-quickchart-complete:disabled:hover {\n",
              "    background-color: var(--disabled-bg-color);\n",
              "    fill: var(--disabled-fill-color);\n",
              "    box-shadow: none;\n",
              "  }\n",
              "\n",
              "  .colab-df-spinner {\n",
              "    border: 2px solid var(--fill-color);\n",
              "    border-color: transparent;\n",
              "    border-bottom-color: var(--fill-color);\n",
              "    animation:\n",
              "      spin 1s steps(1) infinite;\n",
              "  }\n",
              "\n",
              "  @keyframes spin {\n",
              "    0% {\n",
              "      border-color: transparent;\n",
              "      border-bottom-color: var(--fill-color);\n",
              "      border-left-color: var(--fill-color);\n",
              "    }\n",
              "    20% {\n",
              "      border-color: transparent;\n",
              "      border-left-color: var(--fill-color);\n",
              "      border-top-color: var(--fill-color);\n",
              "    }\n",
              "    30% {\n",
              "      border-color: transparent;\n",
              "      border-left-color: var(--fill-color);\n",
              "      border-top-color: var(--fill-color);\n",
              "      border-right-color: var(--fill-color);\n",
              "    }\n",
              "    40% {\n",
              "      border-color: transparent;\n",
              "      border-right-color: var(--fill-color);\n",
              "      border-top-color: var(--fill-color);\n",
              "    }\n",
              "    60% {\n",
              "      border-color: transparent;\n",
              "      border-right-color: var(--fill-color);\n",
              "    }\n",
              "    80% {\n",
              "      border-color: transparent;\n",
              "      border-right-color: var(--fill-color);\n",
              "      border-bottom-color: var(--fill-color);\n",
              "    }\n",
              "    90% {\n",
              "      border-color: transparent;\n",
              "      border-bottom-color: var(--fill-color);\n",
              "    }\n",
              "  }\n",
              "</style>\n",
              "\n",
              "  <script>\n",
              "    async function quickchart(key) {\n",
              "      const quickchartButtonEl =\n",
              "        document.querySelector('#' + key + ' button');\n",
              "      quickchartButtonEl.disabled = true;  // To prevent multiple clicks.\n",
              "      quickchartButtonEl.classList.add('colab-df-spinner');\n",
              "      try {\n",
              "        const charts = await google.colab.kernel.invokeFunction(\n",
              "            'suggestCharts', [key], {});\n",
              "      } catch (error) {\n",
              "        console.error('Error during call to suggestCharts:', error);\n",
              "      }\n",
              "      quickchartButtonEl.classList.remove('colab-df-spinner');\n",
              "      quickchartButtonEl.classList.add('colab-df-quickchart-complete');\n",
              "    }\n",
              "    (() => {\n",
              "      let quickchartButtonEl =\n",
              "        document.querySelector('#df-ea069f6f-bdfd-432a-8c97-aa52618838f0 button');\n",
              "      quickchartButtonEl.style.display =\n",
              "        google.colab.kernel.accessAllowed ? 'block' : 'none';\n",
              "    })();\n",
              "  </script>\n",
              "</div>\n",
              "\n",
              "  <div id=\"id_77556c5c-3581-432d-9c05-4d18e1ac4751\">\n",
              "    <style>\n",
              "      .colab-df-generate {\n",
              "        background-color: #E8F0FE;\n",
              "        border: none;\n",
              "        border-radius: 50%;\n",
              "        cursor: pointer;\n",
              "        display: none;\n",
              "        fill: #1967D2;\n",
              "        height: 32px;\n",
              "        padding: 0 0 0 0;\n",
              "        width: 32px;\n",
              "      }\n",
              "\n",
              "      .colab-df-generate:hover {\n",
              "        background-color: #E2EBFA;\n",
              "        box-shadow: 0px 1px 2px rgba(60, 64, 67, 0.3), 0px 1px 3px 1px rgba(60, 64, 67, 0.15);\n",
              "        fill: #174EA6;\n",
              "      }\n",
              "\n",
              "      [theme=dark] .colab-df-generate {\n",
              "        background-color: #3B4455;\n",
              "        fill: #D2E3FC;\n",
              "      }\n",
              "\n",
              "      [theme=dark] .colab-df-generate:hover {\n",
              "        background-color: #434B5C;\n",
              "        box-shadow: 0px 1px 3px 1px rgba(0, 0, 0, 0.15);\n",
              "        filter: drop-shadow(0px 1px 2px rgba(0, 0, 0, 0.3));\n",
              "        fill: #FFFFFF;\n",
              "      }\n",
              "    </style>\n",
              "    <button class=\"colab-df-generate\" onclick=\"generateWithVariable('df')\"\n",
              "            title=\"Generate code using this dataframe.\"\n",
              "            style=\"display:none;\">\n",
              "\n",
              "  <svg xmlns=\"http://www.w3.org/2000/svg\" height=\"24px\"viewBox=\"0 0 24 24\"\n",
              "       width=\"24px\">\n",
              "    <path d=\"M7,19H8.4L18.45,9,17,7.55,7,17.6ZM5,21V16.75L18.45,3.32a2,2,0,0,1,2.83,0l1.4,1.43a1.91,1.91,0,0,1,.58,1.4,1.91,1.91,0,0,1-.58,1.4L9.25,21ZM18.45,9,17,7.55Zm-12,3A5.31,5.31,0,0,0,4.9,8.1,5.31,5.31,0,0,0,1,6.5,5.31,5.31,0,0,0,4.9,4.9,5.31,5.31,0,0,0,6.5,1,5.31,5.31,0,0,0,8.1,4.9,5.31,5.31,0,0,0,12,6.5,5.46,5.46,0,0,0,6.5,12Z\"/>\n",
              "  </svg>\n",
              "    </button>\n",
              "    <script>\n",
              "      (() => {\n",
              "      const buttonEl =\n",
              "        document.querySelector('#id_77556c5c-3581-432d-9c05-4d18e1ac4751 button.colab-df-generate');\n",
              "      buttonEl.style.display =\n",
              "        google.colab.kernel.accessAllowed ? 'block' : 'none';\n",
              "\n",
              "      buttonEl.onclick = () => {\n",
              "        google.colab.notebook.generateWithVariable('df');\n",
              "      }\n",
              "      })();\n",
              "    </script>\n",
              "  </div>\n",
              "\n",
              "    </div>\n",
              "  </div>\n"
            ],
            "application/vnd.google.colaboratory.intrinsic+json": {
              "type": "dataframe",
              "variable_name": "df",
              "summary": "{\n  \"name\": \"df\",\n  \"rows\": 6607,\n  \"fields\": [\n    {\n      \"column\": \"horas_estudio\",\n      \"properties\": {\n        \"dtype\": \"number\",\n        \"std\": 5,\n        \"min\": 1,\n        \"max\": 44,\n        \"num_unique_values\": 41,\n        \"samples\": [\n          27,\n          20,\n          10\n        ],\n        \"semantic_type\": \"\",\n        \"description\": \"\"\n      }\n    },\n    {\n      \"column\": \"asistencia\",\n      \"properties\": {\n        \"dtype\": \"number\",\n        \"std\": 11,\n        \"min\": 60,\n        \"max\": 100,\n        \"num_unique_values\": 41,\n        \"samples\": [\n          72,\n          60,\n          80\n        ],\n        \"semantic_type\": \"\",\n        \"description\": \"\"\n      }\n    },\n    {\n      \"column\": \"participacion_parental\",\n      \"properties\": {\n        \"dtype\": \"category\",\n        \"num_unique_values\": 3,\n        \"samples\": [\n          \"bajo\",\n          \"medio\",\n          \"elevado\"\n        ],\n        \"semantic_type\": \"\",\n        \"description\": \"\"\n      }\n    },\n    {\n      \"column\": \"acceso_a_recursos\",\n      \"properties\": {\n        \"dtype\": \"category\",\n        \"num_unique_values\": 3,\n        \"samples\": [\n          \"elevado\",\n          \"medio\",\n          \"bajo\"\n        ],\n        \"semantic_type\": \"\",\n        \"description\": \"\"\n      }\n    },\n    {\n      \"column\": \"actividades_extracurriculares\",\n      \"properties\": {\n        \"dtype\": \"category\",\n        \"num_unique_values\": 2,\n        \"samples\": [\n          \"si\",\n          \"no\"\n        ],\n        \"semantic_type\": \"\",\n        \"description\": \"\"\n      }\n    },\n    {\n      \"column\": \"horas_suenio\",\n      \"properties\": {\n        \"dtype\": \"number\",\n        \"std\": 1,\n        \"min\": 4,\n        \"max\": 10,\n        \"num_unique_values\": 7,\n        \"samples\": [\n          7,\n          8\n        ],\n        \"semantic_type\": \"\",\n        \"description\": \"\"\n      }\n    },\n    {\n      \"column\": \"calificaciones_previas\",\n      \"properties\": {\n        \"dtype\": \"number\",\n        \"std\": 14,\n        \"min\": 50,\n        \"max\": 100,\n        \"num_unique_values\": 51,\n        \"samples\": [\n          64,\n          62\n        ],\n        \"semantic_type\": \"\",\n        \"description\": \"\"\n      }\n    },\n    {\n      \"column\": \"nivel_motivacion\",\n      \"properties\": {\n        \"dtype\": \"category\",\n        \"num_unique_values\": 3,\n        \"samples\": [\n          \"bajo\",\n          \"medio\"\n        ],\n        \"semantic_type\": \"\",\n        \"description\": \"\"\n      }\n    },\n    {\n      \"column\": \"acceso_internet\",\n      \"properties\": {\n        \"dtype\": \"category\",\n        \"num_unique_values\": 2,\n        \"samples\": [\n          \"no\",\n          \"si\"\n        ],\n        \"semantic_type\": \"\",\n        \"description\": \"\"\n      }\n    },\n    {\n      \"column\": \"sesiones_tutoria\",\n      \"properties\": {\n        \"dtype\": \"number\",\n        \"std\": 1,\n        \"min\": 0,\n        \"max\": 8,\n        \"num_unique_values\": 9,\n        \"samples\": [\n          7,\n          2\n        ],\n        \"semantic_type\": \"\",\n        \"description\": \"\"\n      }\n    },\n    {\n      \"column\": \"ingreso_familiar\",\n      \"properties\": {\n        \"dtype\": \"category\",\n        \"num_unique_values\": 3,\n        \"samples\": [\n          \"bajo\",\n          \"medio\"\n        ],\n        \"semantic_type\": \"\",\n        \"description\": \"\"\n      }\n    },\n    {\n      \"column\": \"calidad_profesorado\",\n      \"properties\": {\n        \"dtype\": \"category\",\n        \"num_unique_values\": 3,\n        \"samples\": [\n          \"medio\",\n          \"bajo\"\n        ],\n        \"semantic_type\": \"\",\n        \"description\": \"\"\n      }\n    },\n    {\n      \"column\": \"tipo_escuela\",\n      \"properties\": {\n        \"dtype\": \"category\",\n        \"num_unique_values\": 2,\n        \"samples\": [\n          \"privado\",\n          \"publico\"\n        ],\n        \"semantic_type\": \"\",\n        \"description\": \"\"\n      }\n    },\n    {\n      \"column\": \"influencia_companieros\",\n      \"properties\": {\n        \"dtype\": \"category\",\n        \"num_unique_values\": 3,\n        \"samples\": [\n          \"positivo\",\n          \"negativo\"\n        ],\n        \"semantic_type\": \"\",\n        \"description\": \"\"\n      }\n    },\n    {\n      \"column\": \"actividad_fisica\",\n      \"properties\": {\n        \"dtype\": \"number\",\n        \"std\": 1,\n        \"min\": 0,\n        \"max\": 6,\n        \"num_unique_values\": 7,\n        \"samples\": [\n          3,\n          4\n        ],\n        \"semantic_type\": \"\",\n        \"description\": \"\"\n      }\n    },\n    {\n      \"column\": \"discapacidad_aprendizaje\",\n      \"properties\": {\n        \"dtype\": \"category\",\n        \"num_unique_values\": 2,\n        \"samples\": [\n          \"si\",\n          \"no\"\n        ],\n        \"semantic_type\": \"\",\n        \"description\": \"\"\n      }\n    },\n    {\n      \"column\": \"nivel_estudio_padres\",\n      \"properties\": {\n        \"dtype\": \"category\",\n        \"num_unique_values\": 3,\n        \"samples\": [\n          \"preparatoria\",\n          \"universidad\"\n        ],\n        \"semantic_type\": \"\",\n        \"description\": \"\"\n      }\n    },\n    {\n      \"column\": \"distancia\",\n      \"properties\": {\n        \"dtype\": \"category\",\n        \"num_unique_values\": 3,\n        \"samples\": [\n          \"cercano\",\n          \"moderado\"\n        ],\n        \"semantic_type\": \"\",\n        \"description\": \"\"\n      }\n    },\n    {\n      \"column\": \"genero\",\n      \"properties\": {\n        \"dtype\": \"category\",\n        \"num_unique_values\": 2,\n        \"samples\": [\n          \"mujer\",\n          \"hombre\"\n        ],\n        \"semantic_type\": \"\",\n        \"description\": \"\"\n      }\n    },\n    {\n      \"column\": \"puntaje_examen\",\n      \"properties\": {\n        \"dtype\": \"number\",\n        \"std\": 3,\n        \"min\": 55,\n        \"max\": 101,\n        \"num_unique_values\": 45,\n        \"samples\": [\n          96,\n          84\n        ],\n        \"semantic_type\": \"\",\n        \"description\": \"\"\n      }\n    }\n  ]\n}"
            }
          },
          "metadata": {},
          "execution_count": 2
        }
      ],
      "source": [
        "df= pd.read_csv('https://raw.githubusercontent.com/Italia-Gutierrez/Proyecto-U4/refs/heads/main/dataset%20(1).csv')\n",
        "\n",
        "df"
      ]
    },
    {
      "cell_type": "code",
      "source": [
        "df.columns"
      ],
      "metadata": {
        "colab": {
          "base_uri": "https://localhost:8080/"
        },
        "id": "_fQNQEzYuVUy",
        "outputId": "e442329a-8d3f-4184-c50e-1fa63775228e"
      },
      "execution_count": 3,
      "outputs": [
        {
          "output_type": "execute_result",
          "data": {
            "text/plain": [
              "Index(['horas_estudio', 'asistencia', 'participacion_parental',\n",
              "       'acceso_a_recursos', 'actividades_extracurriculares', 'horas_suenio',\n",
              "       'calificaciones_previas', 'nivel_motivacion', 'acceso_internet',\n",
              "       'sesiones_tutoria', 'ingreso_familiar', 'calidad_profesorado',\n",
              "       'tipo_escuela', 'influencia_companieros', 'actividad_fisica',\n",
              "       'discapacidad_aprendizaje', 'nivel_estudio_padres', 'distancia',\n",
              "       'genero', 'puntaje_examen'],\n",
              "      dtype='object')"
            ]
          },
          "metadata": {},
          "execution_count": 3
        }
      ]
    },
    {
      "cell_type": "markdown",
      "source": [
        "**Participación Parental**"
      ],
      "metadata": {
        "id": "RzCRX67QuuNp"
      }
    },
    {
      "cell_type": "code",
      "source": [
        "df['participacion_parental'].unique()"
      ],
      "metadata": {
        "colab": {
          "base_uri": "https://localhost:8080/"
        },
        "id": "SuXaSHpzuwlE",
        "outputId": "38f0f7d8-481e-428b-904c-82289d17a63d"
      },
      "execution_count": 4,
      "outputs": [
        {
          "output_type": "execute_result",
          "data": {
            "text/plain": [
              "array(['bajo', 'medio', 'elevado'], dtype=object)"
            ]
          },
          "metadata": {},
          "execution_count": 4
        }
      ]
    },
    {
      "cell_type": "code",
      "source": [
        "# Italia Alexandra Perez Gutierrez\n",
        "#Se comprueba la Normalidad con Shapiro\n",
        "\n",
        "nivel_de_significancia = 0.05\n",
        "\n",
        "# Función para realizar la prueba de Shapiro-Wilk y mostrar interpretación\n",
        "# NO MODIFICAR\n",
        "def prueba_shapiro(datos, nombre_grupo, nivel_de_significancia):\n",
        "    stat, p = shapiro(datos)\n",
        "    print(f\"\\nPrueba de Shapiro-Wilk para {nombre_grupo}:\")\n",
        "    print(f\"Estadístico: {stat:.4f}\")\n",
        "    print(f\"Valor p: {p:.4f}\")\n",
        "    if p > nivel_de_significancia:\n",
        "        print(\"Interpretación: Los datos tienen una distribución normal.\")\n",
        "    else:\n",
        "        print(\"Interpretación: Los datos no tienen una distribución normal.\")\n",
        "\n",
        "# Aplicar la prueba a cada grupo (parte modificable)\n",
        "prueba_shapiro(df[df['participacion_parental'] == 'bajo']['puntaje_examen'], \"Grupo bajo\", nivel_de_significancia)\n",
        "prueba_shapiro(df[df['participacion_parental'] == 'medio']['puntaje_examen'], \"Grupo medio\", nivel_de_significancia)\n",
        "prueba_shapiro(df[df['participacion_parental'] == 'elevado']['puntaje_examen'], \"Grupo elevado\", nivel_de_significancia)\n"
      ],
      "metadata": {
        "id": "7-p5OmW-6uiv",
        "colab": {
          "base_uri": "https://localhost:8080/"
        },
        "outputId": "5ac6f1a5-3efa-4e15-b015-2e3c09227cd7"
      },
      "execution_count": 5,
      "outputs": [
        {
          "output_type": "stream",
          "name": "stdout",
          "text": [
            "\n",
            "Prueba de Shapiro-Wilk para Grupo bajo:\n",
            "Estadístico: 0.8756\n",
            "Valor p: 0.0000\n",
            "Interpretación: Los datos no tienen una distribución normal.\n",
            "\n",
            "Prueba de Shapiro-Wilk para Grupo medio:\n",
            "Estadístico: 0.9181\n",
            "Valor p: 0.0000\n",
            "Interpretación: Los datos no tienen una distribución normal.\n",
            "\n",
            "Prueba de Shapiro-Wilk para Grupo elevado:\n",
            "Estadístico: 0.8839\n",
            "Valor p: 0.0000\n",
            "Interpretación: Los datos no tienen una distribución normal.\n"
          ]
        }
      ]
    },
    {
      "cell_type": "code",
      "source": [
        "# Italia Alexandra Perez Gutierrez\n",
        "# Se verifica Homocedasticidad\n",
        "\n",
        "nivel_de_significancia = 0.05\n",
        "\n",
        "# Aplicar la prueba de Bartlett\n",
        "stat, p_value = bartlett(\n",
        "    df[df['participacion_parental'] == 'bajo']['puntaje_examen'],\n",
        "    df[df['participacion_parental'] == 'medio']['puntaje_examen'],\n",
        "    df[df['participacion_parental'] == 'elevado']['puntaje_examen'],\n",
        "\n",
        ")\n",
        "\n",
        "# Resultados\n",
        "print(\"Estadístico de Bartlett:\", stat)\n",
        "print(\"Valor p:\", p_value)\n",
        "\n",
        "# Interpretación\n",
        "if p_value < nivel_de_significancia:\n",
        "    print(\"Rechazamos la hipótesis nula: Las varianzas no son iguales.\")\n",
        "else:\n",
        "    print(\"No podemos rechazar la hipótesis nula: Las varianzas son iguales.\")"
      ],
      "metadata": {
        "colab": {
          "base_uri": "https://localhost:8080/"
        },
        "id": "HVCQCLxSUs60",
        "outputId": "55a3be2a-4b36-4ee7-c367-48e798b02e25"
      },
      "execution_count": 6,
      "outputs": [
        {
          "output_type": "stream",
          "name": "stdout",
          "text": [
            "Estadístico de Bartlett: 11.87129042066127\n",
            "Valor p: 0.0026435165799733222\n",
            "Rechazamos la hipótesis nula: Las varianzas no son iguales.\n"
          ]
        }
      ]
    },
    {
      "cell_type": "code",
      "source": [
        "# Si todos los grupos tienen una distribución normal.\n",
        "# Si no cumplen con la normalidad, toman el resultado de la prueba de Kruskal\n",
        "#     y pueden usar los gráficos de Tukey para tomar una decisión (ignorando la tabla).\n",
        "#.    Estrictamente hablando, tendrían que realizar la prueba de Dunn.\n",
        "\n",
        "nivel_de_significancia = 0.05\n",
        "\n",
        "# Prueba de Tukey\n",
        "tukey = pairwise_tukeyhsd(endog=df['puntaje_examen'], groups=df['participacion_parental'], alpha=nivel_de_significancia)\n",
        "\n",
        "# Mostrar los resultados\n",
        "print(tukey)\n",
        "\n",
        "# Gráfico de las diferencias entre grupos\n",
        "tukey.plot_simultaneous(ylabel=\"Grupos\", xlabel=\"Medias\")\n",
        "\n",
        "plt.gca().spines['right'].set_visible(False) # derecha\n",
        "plt.gca().spines['top'].set_visible(False)   # superior\n",
        "plt.title(\"Múltiples comparaciones entre todos los pares (Tukey)\")"
      ],
      "metadata": {
        "id": "-jkZTPZTB7Iy",
        "colab": {
          "base_uri": "https://localhost:8080/",
          "height": 721
        },
        "outputId": "1e494521-7c9f-4793-fbf8-5a538994f275"
      },
      "execution_count": 7,
      "outputs": [
        {
          "output_type": "stream",
          "name": "stdout",
          "text": [
            " Multiple Comparison of Means - Tukey HSD, FWER=0.05 \n",
            "=====================================================\n",
            " group1  group2 meandiff p-adj  lower   upper  reject\n",
            "-----------------------------------------------------\n",
            "   bajo elevado   1.7345   0.0  1.4133  2.0557   True\n",
            "   bajo   medio   0.7399   0.0  0.4487  1.0311   True\n",
            "elevado   medio  -0.9946   0.0 -1.2528 -0.7364   True\n",
            "-----------------------------------------------------\n"
          ]
        },
        {
          "output_type": "execute_result",
          "data": {
            "text/plain": [
              "Text(0.5, 1.0, 'Múltiples comparaciones entre todos los pares (Tukey)')"
            ]
          },
          "metadata": {},
          "execution_count": 7
        },
        {
          "output_type": "display_data",
          "data": {
            "text/plain": [
              "<Figure size 1000x600 with 1 Axes>"
            ],
            "image/png": "[encoded data removed]"
          },
          "metadata": {}
        }
      ]
    },
    {
      "cell_type": "markdown",
      "source": [
        "**Conclusión:** Lo que e puede visualizar en la gráfica es que las calificaciones de los alumnos son mejores cuando los padres se encuentran más al pendiente de sus hijos, ya que su rendimiento escolar se vuelve mejor y se visualiza en la calificación de su exámen\n"
      ],
      "metadata": {
        "id": "-Uom3l0O-H46"
      }
    },
    {
      "cell_type": "markdown",
      "source": [
        "**Acceso a Recursos**"
      ],
      "metadata": {
        "id": "iOP4h7Uu1AhZ"
      }
    },
    {
      "cell_type": "code",
      "source": [
        "df['acceso_a_recursos'].unique()"
      ],
      "metadata": {
        "colab": {
          "base_uri": "https://localhost:8080/"
        },
        "id": "oZ6QkUyG1AtA",
        "outputId": "61cf99f9-bcee-4c8e-bcf2-e16bca7bb695"
      },
      "execution_count": 8,
      "outputs": [
        {
          "output_type": "execute_result",
          "data": {
            "text/plain": [
              "array(['elevado', 'medio', 'bajo'], dtype=object)"
            ]
          },
          "metadata": {},
          "execution_count": 8
        }
      ]
    },
    {
      "cell_type": "code",
      "source": [
        "# Italia Alexandra Perez Gutierrez\n",
        "#Se comprueba la Normalidad con Shapiro\n",
        "\n",
        "nivel_de_significancia = 0.05\n",
        "\n",
        "# Función para realizar la prueba de Shapiro-Wilk y mostrar interpretación\n",
        "# NO MODIFICAR\n",
        "def prueba_shapiro(datos, nombre_grupo, nivel_de_significancia):\n",
        "    stat, p = shapiro(datos)\n",
        "    print(f\"\\nPrueba de Shapiro-Wilk para {nombre_grupo}:\")\n",
        "    print(f\"Estadístico: {stat:.4f}\")\n",
        "    print(f\"Valor p: {p:.4f}\")\n",
        "    if p > nivel_de_significancia:\n",
        "        print(\"Interpretación: Los datos tienen una distribución normal.\")\n",
        "    else:\n",
        "        print(\"Interpretación: Los datos no tienen una distribución normal.\")\n",
        "\n",
        "# Aplicar la prueba a cada grupo (parte modificable)\n",
        "prueba_shapiro(df[df['acceso_a_recursos'] == 'elevado']['puntaje_examen'], \"Grupo elevado\", nivel_de_significancia)\n",
        "prueba_shapiro(df[df['acceso_a_recursos'] == 'medio']['puntaje_examen'], \"Grupo medio\", nivel_de_significancia)\n",
        "prueba_shapiro(df[df['acceso_a_recursos'] == 'bajo']['puntaje_examen'], \"Grupo bajo\", nivel_de_significancia)\n",
        "\n"
      ],
      "metadata": {
        "colab": {
          "base_uri": "https://localhost:8080/"
        },
        "outputId": "384502d5-602d-461c-d078-eaed198e7c4e",
        "id": "_lZRKFr61NgQ"
      },
      "execution_count": 9,
      "outputs": [
        {
          "output_type": "stream",
          "name": "stdout",
          "text": [
            "\n",
            "Prueba de Shapiro-Wilk para Grupo elevado:\n",
            "Estadístico: 0.9029\n",
            "Valor p: 0.0000\n",
            "Interpretación: Los datos no tienen una distribución normal.\n",
            "\n",
            "Prueba de Shapiro-Wilk para Grupo medio:\n",
            "Estadístico: 0.8866\n",
            "Valor p: 0.0000\n",
            "Interpretación: Los datos no tienen una distribución normal.\n",
            "\n",
            "Prueba de Shapiro-Wilk para Grupo bajo:\n",
            "Estadístico: 0.9052\n",
            "Valor p: 0.0000\n",
            "Interpretación: Los datos no tienen una distribución normal.\n"
          ]
        }
      ]
    },
    {
      "cell_type": "code",
      "source": [
        "# Italia Alexandra Perez Gutierrez\n",
        "# Se verifica Homocedasticidad\n",
        "\n",
        "nivel_de_significancia = 0.05\n",
        "\n",
        "# Aplicar la prueba de Bartlett\n",
        "stat, p_value = bartlett(\n",
        "    df[df['acceso_a_recursos'] == 'elevado']['puntaje_examen'],\n",
        "    df[df['acceso_a_recursos'] == 'medio']['puntaje_examen'],\n",
        "    df[df['acceso_a_recursos'] == 'bajo']['puntaje_examen'],\n",
        ")\n",
        "\n",
        "# Resultados\n",
        "print(\"Estadístico de Bartlett:\", stat)\n",
        "print(\"Valor p:\", p_value)\n",
        "\n",
        "# Interpretación\n",
        "if p_value < nivel_de_significancia:\n",
        "    print(\"Rechazamos la hipótesis nula: Las varianzas no son iguales.\")\n",
        "else:\n",
        "    print(\"No podemos rechazar la hipótesis nula: Las varianzas son iguales.\")"
      ],
      "metadata": {
        "colab": {
          "base_uri": "https://localhost:8080/"
        },
        "outputId": "77c58c99-2aa1-4a4c-81c4-46e3c526e9e8",
        "id": "ylKuF0LI1e63"
      },
      "execution_count": 10,
      "outputs": [
        {
          "output_type": "stream",
          "name": "stdout",
          "text": [
            "Estadístico de Bartlett: 20.927867744907925\n",
            "Valor p: 2.8547708937537526e-05\n",
            "Rechazamos la hipótesis nula: Las varianzas no son iguales.\n"
          ]
        }
      ]
    },
    {
      "cell_type": "code",
      "source": [
        "# Si todos los grupos tienen una distribución normal.\n",
        "# Si no cumplen con la normalidad, toman el resultado de la prueba de Kruskal\n",
        "#     y pueden usar los gráficos de Tukey para tomar una decisión (ignorando la tabla).\n",
        "#.    Estrictamente hablando, tendrían que realizar la prueba de Dunn.\n",
        "\n",
        "nivel_de_significancia = 0.05\n",
        "\n",
        "# Prueba de Tukey\n",
        "tukey = pairwise_tukeyhsd(endog=df['puntaje_examen'], groups=df['acceso_a_recursos'], alpha=nivel_de_significancia)\n",
        "\n",
        "# Mostrar los resultados\n",
        "print(tukey)\n",
        "\n",
        "# Gráfico de las diferencias entre grupos\n",
        "tukey.plot_simultaneous(ylabel=\"Grupos\", xlabel=\"Medias\")\n",
        "\n",
        "plt.gca().spines['right'].set_visible(False) # derecha\n",
        "plt.gca().spines['top'].set_visible(False)   # superior\n",
        "plt.title(\"Múltiples comparaciones entre todos los pares (Tukey)\")"
      ],
      "metadata": {
        "colab": {
          "base_uri": "https://localhost:8080/",
          "height": 721
        },
        "outputId": "9a6535a7-b619-4704-de7f-f90ffb3144bc",
        "id": "F0aUonfo1pto"
      },
      "execution_count": 11,
      "outputs": [
        {
          "output_type": "stream",
          "name": "stdout",
          "text": [
            "Multiple Comparison of Means - Tukey HSD, FWER=0.05\n",
            "===================================================\n",
            " group1  group2 meandiff p-adj lower  upper  reject\n",
            "---------------------------------------------------\n",
            "   bajo elevado    1.437   0.0 1.1762 1.6978   True\n",
            "   bajo   medio    0.616   0.0 0.3384 0.8936   True\n",
            "elevado   medio   -0.821   0.0 -1.123 -0.519   True\n",
            "---------------------------------------------------\n"
          ]
        },
        {
          "output_type": "execute_result",
          "data": {
            "text/plain": [
              "Text(0.5, 1.0, 'Múltiples comparaciones entre todos los pares (Tukey)')"
            ]
          },
          "metadata": {},
          "execution_count": 11
        },
        {
          "output_type": "display_data",
          "data": {
            "text/plain": [
              "<Figure size 1000x600 with 1 Axes>"
            ],
            "image/png": "[encoded data removed]"
          },
          "metadata": {}
        }
      ]
    },
    {
      "cell_type": "markdown",
      "source": [
        "**Conclusión:** Se puede concluir que cuando los alumnos tienen mayor acceso a los recursos vistos en las aulas su calificación en los exáentes es mucho más alto, por lo que se recomienda brindarles más todos aquellos recursos que necesiten, ya sea presentaciones, documentos, etc."
      ],
      "metadata": {
        "id": "6ANg4S7B-cn0"
      }
    },
    {
      "cell_type": "markdown",
      "source": [
        "**Actividades Extracurriculares**"
      ],
      "metadata": {
        "id": "JNgjPbcq1xoJ"
      }
    },
    {
      "cell_type": "code",
      "source": [
        "df['actividades_extracurriculares'].unique()"
      ],
      "metadata": {
        "colab": {
          "base_uri": "https://localhost:8080/"
        },
        "id": "zwV7nf7C10nI",
        "outputId": "d2c80fc6-d06f-4d1a-d2db-3bfad496dcef"
      },
      "execution_count": 12,
      "outputs": [
        {
          "output_type": "execute_result",
          "data": {
            "text/plain": [
              "array(['no', 'si'], dtype=object)"
            ]
          },
          "metadata": {},
          "execution_count": 12
        }
      ]
    },
    {
      "cell_type": "code",
      "source": [
        "# Italia Alexandra Perez Gutierrez\n",
        "#Se comprueba la Normalidad con Shapiro\n",
        "\n",
        "nivel_de_significancia = 0.05\n",
        "\n",
        "# Función para realizar la prueba de Shapiro-Wilk y mostrar interpretación\n",
        "# NO MODIFICAR\n",
        "def prueba_shapiro(datos, nombre_grupo, nivel_de_significancia):\n",
        "    stat, p = shapiro(datos)\n",
        "    print(f\"\\nPrueba de Shapiro-Wilk para {nombre_grupo}:\")\n",
        "    print(f\"Estadístico: {stat:.4f}\")\n",
        "    print(f\"Valor p: {p:.4f}\")\n",
        "    if p > nivel_de_significancia:\n",
        "        print(\"Interpretación: Los datos tienen una distribución normal.\")\n",
        "    else:\n",
        "        print(\"Interpretación: Los datos no tienen una distribución normal.\")\n",
        "\n",
        "# Aplicar la prueba a cada grupo (parte modificable)\n",
        "prueba_shapiro(df[df['actividades_extracurriculares'] == 'no']['puntaje_examen'], \"Grupo no\", nivel_de_significancia)\n",
        "prueba_shapiro(df[df['actividades_extracurriculares'] == 'si']['puntaje_examen'], \"Grupo si\", nivel_de_significancia)\n"
      ],
      "metadata": {
        "colab": {
          "base_uri": "https://localhost:8080/"
        },
        "outputId": "b193b240-4a67-4d5e-b4d2-e592efdeb606",
        "id": "d-JXv6-f2LUf"
      },
      "execution_count": 13,
      "outputs": [
        {
          "output_type": "stream",
          "name": "stdout",
          "text": [
            "\n",
            "Prueba de Shapiro-Wilk para Grupo no:\n",
            "Estadístico: 0.9179\n",
            "Valor p: 0.0000\n",
            "Interpretación: Los datos no tienen una distribución normal.\n",
            "\n",
            "Prueba de Shapiro-Wilk para Grupo si:\n",
            "Estadístico: 0.8925\n",
            "Valor p: 0.0000\n",
            "Interpretación: Los datos no tienen una distribución normal.\n"
          ]
        }
      ]
    },
    {
      "cell_type": "code",
      "source": [
        "# Italia Alexandra Perez Gutierrez\n",
        "# Se verifica Homocedasticidad\n",
        "\n",
        "nivel_de_significancia = 0.05\n",
        "\n",
        "# Aplicar la prueba de Bartlett\n",
        "stat, p_value = bartlett(\n",
        "    df[df['actividades_extracurriculares'] == 'no']['puntaje_examen'],\n",
        "    df[df['actividades_extracurriculares'] == 'si']['puntaje_examen'],\n",
        "\n",
        ")\n",
        "\n",
        "# Resultados\n",
        "print(\"Estadístico de Bartlett:\", stat)\n",
        "print(\"Valor p:\", p_value)\n",
        "\n",
        "# Interpretación\n",
        "if p_value < nivel_de_significancia:\n",
        "    print(\"Rechazamos la hipótesis nula: Las varianzas no son iguales.\")\n",
        "else:\n",
        "    print(\"No podemos rechazar la hipótesis nula: Las varianzas son iguales.\")"
      ],
      "metadata": {
        "colab": {
          "base_uri": "https://localhost:8080/"
        },
        "outputId": "dc86fb09-d85c-4abe-8c0b-1e93367a0863",
        "id": "RZ-gKb_22guo"
      },
      "execution_count": 14,
      "outputs": [
        {
          "output_type": "stream",
          "name": "stdout",
          "text": [
            "Estadístico de Bartlett: 4.806579025299352\n",
            "Valor p: 0.028351273949924257\n",
            "Rechazamos la hipótesis nula: Las varianzas no son iguales.\n"
          ]
        }
      ]
    },
    {
      "cell_type": "code",
      "source": [
        "# Si todos los grupos tienen una distribución normal.\n",
        "# Si no cumplen con la normalidad, toman el resultado de la prueba de Kruskal\n",
        "#     y pueden usar los gráficos de Tukey para tomar una decisión (ignorando la tabla).\n",
        "#.    Estrictamente hablando, tendrían que realizar la prueba de Dunn.\n",
        "\n",
        "nivel_de_significancia = 0.05\n",
        "\n",
        "# Prueba de Tukey\n",
        "tukey = pairwise_tukeyhsd(endog=df['puntaje_examen'], groups=df['actividades_extracurriculares'], alpha=nivel_de_significancia)\n",
        "\n",
        "# Mostrar los resultados\n",
        "print(tukey)\n",
        "\n",
        "# Gráfico de las diferencias entre grupos\n",
        "tukey.plot_simultaneous(ylabel=\"Grupos\", xlabel=\"Medias\")\n",
        "\n",
        "plt.gca().spines['right'].set_visible(False) # derecha\n",
        "plt.gca().spines['top'].set_visible(False)   # superior\n",
        "plt.title(\"Múltiples comparaciones entre todos los pares (Tukey)\")"
      ],
      "metadata": {
        "colab": {
          "base_uri": "https://localhost:8080/",
          "height": 687
        },
        "outputId": "d9ba0108-c2a8-4a6e-cdd5-53d6f7fe18b3",
        "id": "L_Cik_Wk2mNQ"
      },
      "execution_count": 15,
      "outputs": [
        {
          "output_type": "stream",
          "name": "stdout",
          "text": [
            "Multiple Comparison of Means - Tukey HSD, FWER=0.05\n",
            "=================================================\n",
            "group1 group2 meandiff p-adj lower  upper  reject\n",
            "-------------------------------------------------\n",
            "    no     si   0.5104   0.0 0.3196 0.7012   True\n",
            "-------------------------------------------------\n"
          ]
        },
        {
          "output_type": "execute_result",
          "data": {
            "text/plain": [
              "Text(0.5, 1.0, 'Múltiples comparaciones entre todos los pares (Tukey)')"
            ]
          },
          "metadata": {},
          "execution_count": 15
        },
        {
          "output_type": "display_data",
          "data": {
            "text/plain": [
              "<Figure size 1000x600 with 1 Axes>"
            ],
            "image/png": "[encoded data removed]"
          },
          "metadata": {}
        }
      ]
    },
    {
      "cell_type": "markdown",
      "source": [
        "**Conclusión:** Se puede concluir que cuando los alumnos tienen actividades extras que les brindan mayor conocimientos y aprendizajes, estos logran tener una mayor calificación ya que ponen a prueba sus habilidades como estudiantes, solo se busca mantene run equilibrio para que no se agobien con tanto trabajo"
      ],
      "metadata": {
        "id": "9-fkh9bq-gZ5"
      }
    },
    {
      "cell_type": "markdown",
      "source": [
        "**Horas de Sueño**"
      ],
      "metadata": {
        "id": "IFj5I7l70T07"
      }
    },
    {
      "cell_type": "code",
      "source": [
        "df['horas_suenio'].unique()"
      ],
      "metadata": {
        "colab": {
          "base_uri": "https://localhost:8080/"
        },
        "id": "EszKQDrwxPJV",
        "outputId": "a4365ec4-e4a7-4187-8666-99deaf4bd2af"
      },
      "execution_count": 16,
      "outputs": [
        {
          "output_type": "execute_result",
          "data": {
            "text/plain": [
              "array([ 7,  8,  6, 10,  9,  5,  4])"
            ]
          },
          "metadata": {},
          "execution_count": 16
        }
      ]
    },
    {
      "cell_type": "code",
      "source": [
        "# Italia Alexandra Perez Gutierrez\n",
        "#Se comprueba la Normalidad con Shapiro\n",
        "\n",
        "nivel_de_significancia = 0.05\n",
        "\n",
        "# Función para realizar la prueba de Shapiro-Wilk y mostrar interpretación\n",
        "# NO MODIFICAR\n",
        "def prueba_shapiro(datos, nombre_grupo, nivel_de_significancia):\n",
        "    stat, p = shapiro(datos)\n",
        "    print(f\"\\nPrueba de Shapiro-Wilk para {nombre_grupo}:\")\n",
        "    print(f\"Estadístico: {stat:.4f}\")\n",
        "    print(f\"Valor p: {p:.4f}\")\n",
        "    if p > nivel_de_significancia:\n",
        "        print(\"Interpretación: Los datos tienen una distribución normal.\")\n",
        "    else:\n",
        "        print(\"Interpretación: Los datos no tienen una distribución normal.\")\n",
        "\n",
        "# Aplicar la prueba a cada grupo (parte modificable)\n",
        "prueba_shapiro(df[df['horas_suenio'] == 7]['puntaje_examen'], \"Grupo 7\", nivel_de_significancia)\n",
        "prueba_shapiro(df[df['horas_suenio'] == 8]['puntaje_examen'], \"Grupo 8\", nivel_de_significancia)\n",
        "prueba_shapiro(df[df['horas_suenio'] == 6]['puntaje_examen'], \"Grupo 6\", nivel_de_significancia)\n",
        "prueba_shapiro(df[df['horas_suenio'] == 10]['puntaje_examen'], \"Grupo 10\", nivel_de_significancia)\n",
        "prueba_shapiro(df[df['horas_suenio'] == 9]['puntaje_examen'], \"Grupo 9\", nivel_de_significancia)\n",
        "prueba_shapiro(df[df['horas_suenio'] == 5]['puntaje_examen'], \"Grupo 5\", nivel_de_significancia)\n",
        "prueba_shapiro(df[df['horas_suenio'] == 4]['puntaje_examen'], \"Grupo 4\", nivel_de_significancia)\n"
      ],
      "metadata": {
        "colab": {
          "base_uri": "https://localhost:8080/"
        },
        "outputId": "7800ee23-1b4f-46cd-cf4a-4d9824854562",
        "id": "0QkLJkr609oj"
      },
      "execution_count": 17,
      "outputs": [
        {
          "output_type": "stream",
          "name": "stdout",
          "text": [
            "\n",
            "Prueba de Shapiro-Wilk para Grupo 7:\n",
            "Estadístico: 0.9033\n",
            "Valor p: 0.0000\n",
            "Interpretación: Los datos no tienen una distribución normal.\n",
            "\n",
            "Prueba de Shapiro-Wilk para Grupo 8:\n",
            "Estadístico: 0.9137\n",
            "Valor p: 0.0000\n",
            "Interpretación: Los datos no tienen una distribución normal.\n",
            "\n",
            "Prueba de Shapiro-Wilk para Grupo 6:\n",
            "Estadístico: 0.8953\n",
            "Valor p: 0.0000\n",
            "Interpretación: Los datos no tienen una distribución normal.\n",
            "\n",
            "Prueba de Shapiro-Wilk para Grupo 10:\n",
            "Estadístico: 0.9697\n",
            "Valor p: 0.0000\n",
            "Interpretación: Los datos no tienen una distribución normal.\n",
            "\n",
            "Prueba de Shapiro-Wilk para Grupo 9:\n",
            "Estadístico: 0.9069\n",
            "Valor p: 0.0000\n",
            "Interpretación: Los datos no tienen una distribución normal.\n",
            "\n",
            "Prueba de Shapiro-Wilk para Grupo 5:\n",
            "Estadístico: 0.9554\n",
            "Valor p: 0.0000\n",
            "Interpretación: Los datos no tienen una distribución normal.\n",
            "\n",
            "Prueba de Shapiro-Wilk para Grupo 4:\n",
            "Estadístico: 0.7656\n",
            "Valor p: 0.0000\n",
            "Interpretación: Los datos no tienen una distribución normal.\n"
          ]
        }
      ]
    },
    {
      "cell_type": "code",
      "source": [
        "# Italia Alexandra Perez Gutierrez\n",
        "# Se verifica Homocedasticidad\n",
        "\n",
        "nivel_de_significancia = 0.05\n",
        "\n",
        "# Aplicar la prueba de Bartlett\n",
        "stat, p_value = bartlett(\n",
        "    df[df['horas_suenio'] == 7]['puntaje_examen'],\n",
        "    df[df['horas_suenio'] == 8]['puntaje_examen'],\n",
        "    df[df['horas_suenio'] == 6]['puntaje_examen'],\n",
        "    df[df['horas_suenio'] == 10]['puntaje_examen'],\n",
        "    df[df['horas_suenio'] == 9]['puntaje_examen'],\n",
        "    df[df['horas_suenio'] == 5]['puntaje_examen'],\n",
        "    df[df['horas_suenio'] == 4]['puntaje_examen'],\n",
        ")\n",
        "\n",
        "# Resultados\n",
        "print(\"Estadístico de Bartlett:\", stat)\n",
        "print(\"Valor p:\", p_value)\n",
        "\n",
        "# Interpretación\n",
        "if p_value < nivel_de_significancia:\n",
        "    print(\"Rechazamos la hipótesis nula: Las varianzas no son iguales.\")\n",
        "else:\n",
        "    print(\"No podemos rechazar la hipótesis nula: Las varianzas son iguales.\")"
      ],
      "metadata": {
        "colab": {
          "base_uri": "https://localhost:8080/"
        },
        "outputId": "cb0fae3c-1c7d-4d9a-8692-26269b45a658",
        "id": "Um-X2-et10eK"
      },
      "execution_count": 18,
      "outputs": [
        {
          "output_type": "stream",
          "name": "stdout",
          "text": [
            "Estadístico de Bartlett: 48.26800171068049\n",
            "Valor p: 1.044520085616405e-08\n",
            "Rechazamos la hipótesis nula: Las varianzas no son iguales.\n"
          ]
        }
      ]
    },
    {
      "cell_type": "code",
      "source": [
        "# Si todos los grupos tienen una distribución normal.\n",
        "# Si no cumplen con la normalidad, toman el resultado de la prueba de Kruskal\n",
        "#     y pueden usar los gráficos de Tukey para tomar una decisión (ignorando la tabla).\n",
        "#.    Estrictamente hablando, tendrían que realizar la prueba de Dunn.\n",
        "\n",
        "nivel_de_significancia = 0.05\n",
        "\n",
        "# Prueba de Tukey\n",
        "tukey = pairwise_tukeyhsd(endog=df['puntaje_examen'], groups=df['horas_suenio'], alpha=nivel_de_significancia)\n",
        "\n",
        "# Mostrar los resultados\n",
        "print(tukey)\n",
        "\n",
        "# Gráfico de las diferencias entre grupos\n",
        "tukey.plot_simultaneous(ylabel=\"Grupos\", xlabel=\"Medias\")\n",
        "\n",
        "plt.gca().spines['right'].set_visible(False) # derecha\n",
        "plt.gca().spines['top'].set_visible(False)   # superior\n",
        "plt.title(\"Múltiples comparaciones entre todos los pares (Tukey)\")"
      ],
      "metadata": {
        "colab": {
          "base_uri": "https://localhost:8080/",
          "height": 1000
        },
        "outputId": "d28e0259-04ea-49c1-99e5-c75bf9c8f62a",
        "id": "ozvK_Ghv2IW2"
      },
      "execution_count": 19,
      "outputs": [
        {
          "output_type": "stream",
          "name": "stdout",
          "text": [
            "Multiple Comparison of Means - Tukey HSD, FWER=0.05\n",
            "===================================================\n",
            "group1 group2 meandiff p-adj   lower  upper  reject\n",
            "---------------------------------------------------\n",
            "     4      5    -0.33 0.8784 -1.1146 0.4546  False\n",
            "     4      6  -0.4331 0.5699 -1.1555 0.2893  False\n",
            "     4      7  -0.3849 0.6809 -1.0933 0.3235  False\n",
            "     4      8  -0.4091 0.6345 -1.1304 0.3122  False\n",
            "     4      9  -0.4782   0.53 -1.2502 0.2939  False\n",
            "     4     10    -0.49 0.7022  -1.411  0.431  False\n",
            "     5      6  -0.1031 0.9976 -0.6371  0.431  False\n",
            "     5      7  -0.0549 0.9999 -0.5698   0.46  False\n",
            "     5      8  -0.0791 0.9995 -0.6117 0.4534  False\n",
            "     5      9  -0.1482 0.9908 -0.7477 0.4513  False\n",
            "     5     10    -0.16 0.9967  -0.942  0.622  False\n",
            "     6      7   0.0482 0.9999 -0.3657 0.4621  False\n",
            "     6      8    0.024    1.0 -0.4117 0.4597  False\n",
            "     6      9  -0.0451    1.0 -0.5605 0.4703  False\n",
            "     6     10  -0.0569    1.0 -0.7765 0.6626  False\n",
            "     7      8  -0.0242    1.0 -0.4363 0.3878  False\n",
            "     7      9  -0.0933 0.9979 -0.5888 0.4023  False\n",
            "     7     10  -0.1051 0.9995 -0.8106 0.6003  False\n",
            "     8      9  -0.0691 0.9997 -0.5829 0.4448  False\n",
            "     8     10  -0.0809 0.9999 -0.7994 0.6376  False\n",
            "     9     10  -0.0119    1.0 -0.7813 0.7576  False\n",
            "---------------------------------------------------\n"
          ]
        },
        {
          "output_type": "execute_result",
          "data": {
            "text/plain": [
              "Text(0.5, 1.0, 'Múltiples comparaciones entre todos los pares (Tukey)')"
            ]
          },
          "metadata": {},
          "execution_count": 19
        },
        {
          "output_type": "display_data",
          "data": {
            "text/plain": [
              "<Figure size 1000x600 with 1 Axes>"
            ],
            "image/png": "[encoded data removed]"
          },
          "metadata": {}
        }
      ]
    },
    {
      "cell_type": "markdown",
      "source": [
        "**Conclusión:** Como se puede visualizar las horas de sueño influyen en las calificaciones, y aunque marca que mientras menos horas de sueño tenga mejor es la calificación, es preferente que se mantenga un equilibrio y que de preferencia se duerman las minimas horas de sueño para que el alumno mantenga una mejor eficiencia"
      ],
      "metadata": {
        "id": "NwQk3964-jjq"
      }
    },
    {
      "cell_type": "markdown",
      "source": [
        "**nivel de Motivación**"
      ],
      "metadata": {
        "id": "CjXY_s2w3Rsg"
      }
    },
    {
      "cell_type": "code",
      "source": [
        "df['nivel_motivacion'].unique()"
      ],
      "metadata": {
        "colab": {
          "base_uri": "https://localhost:8080/"
        },
        "outputId": "9ddc0c61-4547-45cb-a058-5006ddaf1620",
        "id": "F-HZD9H7579m"
      },
      "execution_count": 20,
      "outputs": [
        {
          "output_type": "execute_result",
          "data": {
            "text/plain": [
              "array(['bajo', 'medio', 'elevado'], dtype=object)"
            ]
          },
          "metadata": {},
          "execution_count": 20
        }
      ]
    },
    {
      "cell_type": "code",
      "source": [
        "# Italia Alexandra Perez Gutierrez\n",
        "#Se comprueba la Normalidad con Shapiro\n",
        "\n",
        "nivel_de_significancia = 0.05\n",
        "\n",
        "# Función para realizar la prueba de Shapiro-Wilk y mostrar interpretación\n",
        "# NO MODIFICAR\n",
        "def prueba_shapiro(datos, nombre_grupo, nivel_de_significancia):\n",
        "    stat, p = shapiro(datos)\n",
        "    print(f\"\\nPrueba de Shapiro-Wilk para {nombre_grupo}:\")\n",
        "    print(f\"Estadístico: {stat:.4f}\")\n",
        "    print(f\"Valor p: {p:.4f}\")\n",
        "    if p > nivel_de_significancia:\n",
        "        print(\"Interpretación: Los datos tienen una distribución normal.\")\n",
        "    else:\n",
        "        print(\"Interpretación: Los datos no tienen una distribución normal.\")\n",
        "\n",
        "# Aplicar la prueba a cada grupo (parte modificable)\n",
        "prueba_shapiro(df[df['nivel_motivacion'] == 'bajo']['puntaje_examen'], \"Grupo bajo\", nivel_de_significancia)\n",
        "prueba_shapiro(df[df['nivel_motivacion'] == 'medio']['puntaje_examen'], \"Grupo medio\", nivel_de_significancia)\n",
        "prueba_shapiro(df[df['nivel_motivacion'] == 'elevado']['puntaje_examen'], \"Grupo elevado\", nivel_de_significancia)\n"
      ],
      "metadata": {
        "colab": {
          "base_uri": "https://localhost:8080/"
        },
        "outputId": "d3d9f11b-d97f-4979-df56-ca83977f8c74",
        "id": "_REr6s8u6J90"
      },
      "execution_count": 21,
      "outputs": [
        {
          "output_type": "stream",
          "name": "stdout",
          "text": [
            "\n",
            "Prueba de Shapiro-Wilk para Grupo bajo:\n",
            "Estadístico: 0.8910\n",
            "Valor p: 0.0000\n",
            "Interpretación: Los datos no tienen una distribución normal.\n",
            "\n",
            "Prueba de Shapiro-Wilk para Grupo medio:\n",
            "Estadístico: 0.8988\n",
            "Valor p: 0.0000\n",
            "Interpretación: Los datos no tienen una distribución normal.\n",
            "\n",
            "Prueba de Shapiro-Wilk para Grupo elevado:\n",
            "Estadístico: 0.9223\n",
            "Valor p: 0.0000\n",
            "Interpretación: Los datos no tienen una distribución normal.\n"
          ]
        }
      ]
    },
    {
      "cell_type": "code",
      "source": [
        "# Italia Alexandra Perez Gutierrez\n",
        "# Se verifica Homocedasticidad\n",
        "\n",
        "nivel_de_significancia = 0.05\n",
        "\n",
        "# Aplicar la prueba de Bartlett\n",
        "stat, p_value = bartlett(\n",
        "    df[df['nivel_motivacion'] == 'bajo']['puntaje_examen'],\n",
        "    df[df['nivel_motivacion'] == 'medio']['puntaje_examen'],\n",
        "    df[df['nivel_motivacion'] == 'elevado']['puntaje_examen'],\n",
        ")\n",
        "\n",
        "# Resultados\n",
        "print(\"Estadístico de Bartlett:\", stat)\n",
        "print(\"Valor p:\", p_value)\n",
        "\n",
        "# Interpretación\n",
        "if p_value < nivel_de_significancia:\n",
        "    print(\"Rechazamos la hipótesis nula: Las varianzas no son iguales.\")\n",
        "else:\n",
        "    print(\"No podemos rechazar la hipótesis nula: Las varianzas son iguales.\")"
      ],
      "metadata": {
        "colab": {
          "base_uri": "https://localhost:8080/"
        },
        "outputId": "aa26ee66-79eb-4320-80ca-4011c5e1dbb0",
        "id": "obNVCs3K6a9c"
      },
      "execution_count": 22,
      "outputs": [
        {
          "output_type": "stream",
          "name": "stdout",
          "text": [
            "Estadístico de Bartlett: 2.7883187603893127\n",
            "Valor p: 0.24804145731513255\n",
            "No podemos rechazar la hipótesis nula: Las varianzas son iguales.\n"
          ]
        }
      ]
    },
    {
      "cell_type": "code",
      "source": [
        "# Si todos los grupos tienen una distribución normal.\n",
        "# Si no cumplen con la normalidad, toman el resultado de la prueba de Kruskal\n",
        "#     y pueden usar los gráficos de Tukey para tomar una decisión (ignorando la tabla).\n",
        "#.    Estrictamente hablando, tendrían que realizar la prueba de Dunn.\n",
        "\n",
        "nivel_de_significancia = 0.05\n",
        "\n",
        "# Prueba de Tukey\n",
        "tukey = pairwise_tukeyhsd(endog=df['puntaje_examen'], groups=df['nivel_motivacion'], alpha=nivel_de_significancia)\n",
        "\n",
        "# Mostrar los resultados\n",
        "print(tukey)\n",
        "\n",
        "# Gráfico de las diferencias entre grupos\n",
        "tukey.plot_simultaneous(ylabel=\"Grupos\", xlabel=\"Medias\")\n",
        "\n",
        "plt.gca().spines['right'].set_visible(False) # derecha\n",
        "plt.gca().spines['top'].set_visible(False)   # superior\n",
        "plt.title(\"Múltiples comparaciones entre todos los pares (Tukey)\")"
      ],
      "metadata": {
        "colab": {
          "base_uri": "https://localhost:8080/",
          "height": 721
        },
        "outputId": "7c64b669-b273-4948-9517-e32793a51d03",
        "id": "T-A4Q2O66koT"
      },
      "execution_count": 23,
      "outputs": [
        {
          "output_type": "stream",
          "name": "stdout",
          "text": [
            " Multiple Comparison of Means - Tukey HSD, FWER=0.05 \n",
            "=====================================================\n",
            " group1  group2 meandiff p-adj  lower   upper  reject\n",
            "-----------------------------------------------------\n",
            "   bajo elevado   0.9521    0.0 0.6278  1.2765   True\n",
            "   bajo   medio   0.5785    0.0 0.3191  0.8378   True\n",
            "elevado   medio  -0.3737 0.0085 -0.669 -0.0783   True\n",
            "-----------------------------------------------------\n"
          ]
        },
        {
          "output_type": "execute_result",
          "data": {
            "text/plain": [
              "Text(0.5, 1.0, 'Múltiples comparaciones entre todos los pares (Tukey)')"
            ]
          },
          "metadata": {},
          "execution_count": 23
        },
        {
          "output_type": "display_data",
          "data": {
            "text/plain": [
              "<Figure size 1000x600 with 1 Axes>"
            ],
            "image/png": "[encoded data removed]"
          },
          "metadata": {}
        }
      ]
    },
    {
      "cell_type": "markdown",
      "source": [
        "**Conclusión:** Se concluye que para que el alumnado tenga una mejor calificación necesitan brindarles mayor motivación insentivando con mejores oportunidades de estudio, de conseguir puntos por realizar x investigación o tarea, ya que la motivación no solo es importante para realizar un eficiente examen, sino en todo"
      ],
      "metadata": {
        "id": "KAKIQGa9-mZ6"
      }
    },
    {
      "cell_type": "markdown",
      "source": [
        "**Acceso a Internet**"
      ],
      "metadata": {
        "id": "Twx0MgVJ21uJ"
      }
    },
    {
      "cell_type": "code",
      "source": [
        "df['acceso_internet'].unique()"
      ],
      "metadata": {
        "colab": {
          "base_uri": "https://localhost:8080/"
        },
        "id": "PiluXWwk248I",
        "outputId": "04242009-4be4-45e5-ca9e-a51c11c6133b"
      },
      "execution_count": 24,
      "outputs": [
        {
          "output_type": "execute_result",
          "data": {
            "text/plain": [
              "array(['si', 'no'], dtype=object)"
            ]
          },
          "metadata": {},
          "execution_count": 24
        }
      ]
    },
    {
      "cell_type": "code",
      "source": [
        "# Italia Alexandra Perez Gutierrez\n",
        "#Se comprueba la Normalidad con Shapiro\n",
        "\n",
        "nivel_de_significancia = 0.05\n",
        "\n",
        "# Función para realizar la prueba de Shapiro-Wilk y mostrar interpretación\n",
        "# NO MODIFICAR\n",
        "def prueba_shapiro(datos, nombre_grupo, nivel_de_significancia):\n",
        "    stat, p = shapiro(datos)\n",
        "    print(f\"\\nPrueba de Shapiro-Wilk para {nombre_grupo}:\")\n",
        "    print(f\"Estadístico: {stat:.4f}\")\n",
        "    print(f\"Valor p: {p:.4f}\")\n",
        "    if p > nivel_de_significancia:\n",
        "        print(\"Interpretación: Los datos tienen una distribución normal.\")\n",
        "    else:\n",
        "        print(\"Interpretación: Los datos no tienen una distribución normal.\")\n",
        "\n",
        "# Aplicar la prueba a cada grupo (parte modificable)\n",
        "prueba_shapiro(df[df['acceso_internet'] == 'no']['puntaje_examen'], \"Grupo no\", nivel_de_significancia)\n",
        "prueba_shapiro(df[df['acceso_internet'] == 'si']['puntaje_examen'], \"Grupo si\", nivel_de_significancia)\n",
        "\n"
      ],
      "metadata": {
        "colab": {
          "base_uri": "https://localhost:8080/"
        },
        "outputId": "d9d5dfdb-b52d-45b5-81eb-c9071b4d8c8b",
        "id": "YC0c7jTk3A8I"
      },
      "execution_count": 25,
      "outputs": [
        {
          "output_type": "stream",
          "name": "stdout",
          "text": [
            "\n",
            "Prueba de Shapiro-Wilk para Grupo no:\n",
            "Estadístico: 0.8447\n",
            "Valor p: 0.0000\n",
            "Interpretación: Los datos no tienen una distribución normal.\n",
            "\n",
            "Prueba de Shapiro-Wilk para Grupo si:\n",
            "Estadístico: 0.9070\n",
            "Valor p: 0.0000\n",
            "Interpretación: Los datos no tienen una distribución normal.\n"
          ]
        }
      ]
    },
    {
      "cell_type": "code",
      "source": [
        "# Italia Alexandra Perez Gutierrez\n",
        "# Se verifica Homocedasticidad\n",
        "\n",
        "nivel_de_significancia = 0.05\n",
        "\n",
        "# Aplicar la prueba de Bartlett\n",
        "stat, p_value = bartlett(\n",
        "    df[df['acceso_internet'] == 'no']['puntaje_examen'],\n",
        "    df[df['acceso_internet'] == 'si']['puntaje_examen'],\n",
        ")\n",
        "\n",
        "# Resultados\n",
        "print(\"Estadístico de Bartlett:\", stat)\n",
        "print(\"Valor p:\", p_value)\n",
        "\n",
        "# Interpretación\n",
        "if p_value < nivel_de_significancia:\n",
        "    print(\"Rechazamos la hipótesis nula: Las varianzas no son iguales.\")\n",
        "else:\n",
        "    print(\"No podemos rechazar la hipótesis nula: Las varianzas son iguales.\")"
      ],
      "metadata": {
        "colab": {
          "base_uri": "https://localhost:8080/"
        },
        "outputId": "b65fee74-1ea0-434c-9b27-933f1b9bef24",
        "id": "qr2o1n9e3Id4"
      },
      "execution_count": 26,
      "outputs": [
        {
          "output_type": "stream",
          "name": "stdout",
          "text": [
            "Estadístico de Bartlett: 3.859407005114425\n",
            "Valor p: 0.04946780911213008\n",
            "Rechazamos la hipótesis nula: Las varianzas no son iguales.\n"
          ]
        }
      ]
    },
    {
      "cell_type": "code",
      "source": [
        "# Si todos los grupos tienen una distribución normal.\n",
        "# Si no cumplen con la normalidad, toman el resultado de la prueba de Kruskal\n",
        "#     y pueden usar los gráficos de Tukey para tomar una decisión (ignorando la tabla).\n",
        "#.    Estrictamente hablando, tendrían que realizar la prueba de Dunn.\n",
        "\n",
        "nivel_de_significancia = 0.05\n",
        "\n",
        "# Prueba de Tukey\n",
        "tukey = pairwise_tukeyhsd(endog=df['puntaje_examen'], groups=df['acceso_internet'], alpha=nivel_de_significancia)\n",
        "\n",
        "# Mostrar los resultados\n",
        "print(tukey)\n",
        "\n",
        "# Gráfico de las diferencias entre grupos\n",
        "tukey.plot_simultaneous(ylabel=\"Grupos\", xlabel=\"Medias\")\n",
        "\n",
        "plt.gca().spines['right'].set_visible(False) # derecha\n",
        "plt.gca().spines['top'].set_visible(False)   # superior\n",
        "plt.title(\"Múltiples comparaciones entre todos los pares (Tukey)\")"
      ],
      "metadata": {
        "colab": {
          "base_uri": "https://localhost:8080/",
          "height": 687
        },
        "outputId": "2c311675-b1b1-45eb-fdcc-54f2dea2b0a6",
        "id": "riBiAkYI3OBx"
      },
      "execution_count": 27,
      "outputs": [
        {
          "output_type": "stream",
          "name": "stdout",
          "text": [
            "Multiple Comparison of Means - Tukey HSD, FWER=0.05\n",
            "=================================================\n",
            "group1 group2 meandiff p-adj lower  upper  reject\n",
            "-------------------------------------------------\n",
            "    no     si   0.7578   0.0 0.4032 1.1125   True\n",
            "-------------------------------------------------\n"
          ]
        },
        {
          "output_type": "execute_result",
          "data": {
            "text/plain": [
              "Text(0.5, 1.0, 'Múltiples comparaciones entre todos los pares (Tukey)')"
            ]
          },
          "metadata": {},
          "execution_count": 27
        },
        {
          "output_type": "display_data",
          "data": {
            "text/plain": [
              "<Figure size 1000x600 with 1 Axes>"
            ],
            "image/png": "[encoded data removed]"
          },
          "metadata": {}
        }
      ]
    },
    {
      "cell_type": "markdown",
      "source": [
        "**Conclusión:** Actualmente el uso del internet es demasiado relevante, como tal, se buscaría apoyar a todo aquel alumnado que no tenga acceso de internet para que realice sus tareas y trabajos de manera más eficiente, ya que el internet beneficia en mejores calificaciones, no solo del examen sino tambien de los trabajos, además de que se insentiva a la lectura de articulos en el internet"
      ],
      "metadata": {
        "id": "W9FnoPAa-pHa"
      }
    },
    {
      "cell_type": "markdown",
      "source": [
        "**Ingreso Familiar**"
      ],
      "metadata": {
        "id": "0cHGzfu23fGh"
      }
    },
    {
      "cell_type": "code",
      "source": [
        "df['ingreso_familiar'].unique()"
      ],
      "metadata": {
        "colab": {
          "base_uri": "https://localhost:8080/"
        },
        "id": "0FO2F8463hYy",
        "outputId": "c79c4121-a98b-41d7-d554-3681d0b93c07"
      },
      "execution_count": 28,
      "outputs": [
        {
          "output_type": "execute_result",
          "data": {
            "text/plain": [
              "array(['bajo', 'medio', 'elevado'], dtype=object)"
            ]
          },
          "metadata": {},
          "execution_count": 28
        }
      ]
    },
    {
      "cell_type": "code",
      "source": [
        "# Italia Alexandra Perez Gutierrez\n",
        "#Se comprueba la Normalidad con Shapiro\n",
        "\n",
        "nivel_de_significancia = 0.05\n",
        "\n",
        "# Función para realizar la prueba de Shapiro-Wilk y mostrar interpretación\n",
        "# NO MODIFICAR\n",
        "def prueba_shapiro(datos, nombre_grupo, nivel_de_significancia):\n",
        "    stat, p = shapiro(datos)\n",
        "    print(f\"\\nPrueba de Shapiro-Wilk para {nombre_grupo}:\")\n",
        "    print(f\"Estadístico: {stat:.4f}\")\n",
        "    print(f\"Valor p: {p:.4f}\")\n",
        "    if p > nivel_de_significancia:\n",
        "        print(\"Interpretación: Los datos tienen una distribución normal.\")\n",
        "    else:\n",
        "        print(\"Interpretación: Los datos no tienen una distribución normal.\")\n",
        "\n",
        "# Aplicar la prueba a cada grupo (parte modificable)\n",
        "prueba_shapiro(df[df['ingreso_familiar'] == 'bajo']['puntaje_examen'], \"Grupo bajo\", nivel_de_significancia)\n",
        "prueba_shapiro(df[df['ingreso_familiar'] == 'medio']['puntaje_examen'], \"Grupo medio\", nivel_de_significancia)\n",
        "prueba_shapiro(df[df['ingreso_familiar'] == 'elevado']['puntaje_examen'], \"Grupo elevado\", nivel_de_significancia)\n"
      ],
      "metadata": {
        "colab": {
          "base_uri": "https://localhost:8080/"
        },
        "outputId": "e9bb1ef5-08e6-4a9f-fcfa-acc8e628c4a3",
        "id": "MRTGpLZr31uw"
      },
      "execution_count": 29,
      "outputs": [
        {
          "output_type": "stream",
          "name": "stdout",
          "text": [
            "\n",
            "Prueba de Shapiro-Wilk para Grupo bajo:\n",
            "Estadístico: 0.9212\n",
            "Valor p: 0.0000\n",
            "Interpretación: Los datos no tienen una distribución normal.\n",
            "\n",
            "Prueba de Shapiro-Wilk para Grupo medio:\n",
            "Estadístico: 0.9148\n",
            "Valor p: 0.0000\n",
            "Interpretación: Los datos no tienen una distribución normal.\n",
            "\n",
            "Prueba de Shapiro-Wilk para Grupo elevado:\n",
            "Estadístico: 0.8443\n",
            "Valor p: 0.0000\n",
            "Interpretación: Los datos no tienen una distribución normal.\n"
          ]
        }
      ]
    },
    {
      "cell_type": "code",
      "source": [
        "# Italia Alexandra Perez Gutierrez\n",
        "# Se verifica Homocedasticidad\n",
        "\n",
        "nivel_de_significancia = 0.05\n",
        "\n",
        "# Aplicar la prueba de Bartlett\n",
        "stat, p_value = bartlett(\n",
        "    df[df['ingreso_familiar'] == 'bajo']['puntaje_examen'],\n",
        "    df[df['ingreso_familiar'] == 'medio']['puntaje_examen'],\n",
        "    df[df['ingreso_familiar'] == 'elevado']['puntaje_examen'],\n",
        ")\n",
        "\n",
        "# Resultados\n",
        "print(\"Estadístico de Bartlett:\", stat)\n",
        "print(\"Valor p:\", p_value)\n",
        "\n",
        "# Interpretación\n",
        "if p_value < nivel_de_significancia:\n",
        "    print(\"Rechazamos la hipótesis nula: Las varianzas no son iguales.\")\n",
        "else:\n",
        "    print(\"No podemos rechazar la hipótesis nula: Las varianzas son iguales.\")"
      ],
      "metadata": {
        "colab": {
          "base_uri": "https://localhost:8080/"
        },
        "outputId": "7ea26cba-761b-4f39-b91c-e4e748c69860",
        "id": "b_a1WdxV4GzA"
      },
      "execution_count": 30,
      "outputs": [
        {
          "output_type": "stream",
          "name": "stdout",
          "text": [
            "Estadístico de Bartlett: 16.595349321723337\n",
            "Valor p: 0.0002490953854240099\n",
            "Rechazamos la hipótesis nula: Las varianzas no son iguales.\n"
          ]
        }
      ]
    },
    {
      "cell_type": "code",
      "source": [
        "# Si todos los grupos tienen una distribución normal.\n",
        "# Si no cumplen con la normalidad, toman el resultado de la prueba de Kruskal\n",
        "#     y pueden usar los gráficos de Tukey para tomar una decisión (ignorando la tabla).\n",
        "#.    Estrictamente hablando, tendrían que realizar la prueba de Dunn.\n",
        "\n",
        "nivel_de_significancia = 0.05\n",
        "\n",
        "# Prueba de Tukey\n",
        "tukey = pairwise_tukeyhsd(endog=df['puntaje_examen'], groups=df['ingreso_familiar'], alpha=nivel_de_significancia)\n",
        "\n",
        "# Mostrar los resultados\n",
        "print(tukey)\n",
        "\n",
        "# Gráfico de las diferencias entre grupos\n",
        "tukey.plot_simultaneous(ylabel=\"Grupos\", xlabel=\"Medias\")\n",
        "\n",
        "plt.gca().spines['right'].set_visible(False) # derecha\n",
        "plt.gca().spines['top'].set_visible(False)   # superior\n",
        "plt.title(\"Múltiples comparaciones entre todos los pares (Tukey)\")"
      ],
      "metadata": {
        "colab": {
          "base_uri": "https://localhost:8080/",
          "height": 721
        },
        "outputId": "e29f2794-9171-4d76-e1de-198e6b124a5b",
        "id": "-2mjyxTn4KdY"
      },
      "execution_count": 31,
      "outputs": [
        {
          "output_type": "stream",
          "name": "stdout",
          "text": [
            " Multiple Comparison of Means - Tukey HSD, FWER=0.05  \n",
            "======================================================\n",
            " group1  group2 meandiff p-adj   lower   upper  reject\n",
            "------------------------------------------------------\n",
            "   bajo elevado    0.994    0.0  0.6844  1.3035   True\n",
            "   bajo   medio   0.4865    0.0   0.238  0.7351   True\n",
            "elevado   medio  -0.5074 0.0004 -0.8171 -0.1977   True\n",
            "------------------------------------------------------\n"
          ]
        },
        {
          "output_type": "execute_result",
          "data": {
            "text/plain": [
              "Text(0.5, 1.0, 'Múltiples comparaciones entre todos los pares (Tukey)')"
            ]
          },
          "metadata": {},
          "execution_count": 31
        },
        {
          "output_type": "display_data",
          "data": {
            "text/plain": [
              "<Figure size 1000x600 with 1 Axes>"
            ],
            "image/png": "[encoded data removed]"
          },
          "metadata": {}
        }
      ]
    },
    {
      "cell_type": "markdown",
      "source": [
        "**Conclusión:** Se puede concluir que mientras más alto sea el ingreso de dinero de los padres,los alumnos tienen mayor posibilidad de obtener mejores calificaciones, por el nivel de calidad de vida,por las mejores oportunidades, etc. aunque en lo personal considero que no debería de ser un factor tan importante, que de cierta manera si influye pero se buscaría una manera de brindar apoyo al alumnado, como becas, tarjetas de comida, etc."
      ],
      "metadata": {
        "id": "qi1PTzid-rlK"
      }
    },
    {
      "cell_type": "markdown",
      "source": [
        "**Tipo Escuela**"
      ],
      "metadata": {
        "id": "PhI95S0s6v0y"
      }
    },
    {
      "cell_type": "code",
      "source": [
        "df['tipo_escuela'].unique()"
      ],
      "metadata": {
        "colab": {
          "base_uri": "https://localhost:8080/"
        },
        "id": "Ubr4GcLX6xzA",
        "outputId": "b4c3b82a-65cd-450a-b205-00d4fe5a5c9d"
      },
      "execution_count": 32,
      "outputs": [
        {
          "output_type": "execute_result",
          "data": {
            "text/plain": [
              "array(['publico', 'privado'], dtype=object)"
            ]
          },
          "metadata": {},
          "execution_count": 32
        }
      ]
    },
    {
      "cell_type": "code",
      "source": [
        "# Italia Alexandra Perez Gutierrez\n",
        "#Se comprueba la Normalidad con Shapiro\n",
        "\n",
        "nivel_de_significancia = 0.05\n",
        "\n",
        "# Función para realizar la prueba de Shapiro-Wilk y mostrar interpretación\n",
        "# NO MODIFICAR\n",
        "def prueba_shapiro(datos, nombre_grupo, nivel_de_significancia):\n",
        "    stat, p = shapiro(datos)\n",
        "    print(f\"\\nPrueba de Shapiro-Wilk para {nombre_grupo}:\")\n",
        "    print(f\"Estadístico: {stat:.4f}\")\n",
        "    print(f\"Valor p: {p:.4f}\")\n",
        "    if p > nivel_de_significancia:\n",
        "        print(\"Interpretación: Los datos tienen una distribución normal.\")\n",
        "    else:\n",
        "        print(\"Interpretación: Los datos no tienen una distribución normal.\")\n",
        "\n",
        "# Aplicar la prueba a cada grupo (parte modificable)\n",
        "prueba_shapiro(df[df['tipo_escuela'] == 'publico']['puntaje_examen'], \"Grupo publico\", nivel_de_significancia)\n",
        "prueba_shapiro(df[df['tipo_escuela'] == 'privado']['puntaje_examen'], \"Grupo privado\", nivel_de_significancia)"
      ],
      "metadata": {
        "colab": {
          "base_uri": "https://localhost:8080/"
        },
        "outputId": "d63d0377-b8b2-4d3e-ad46-efdf052ce4d4",
        "id": "hRZLergX62sY"
      },
      "execution_count": 33,
      "outputs": [
        {
          "output_type": "stream",
          "name": "stdout",
          "text": [
            "\n",
            "Prueba de Shapiro-Wilk para Grupo publico:\n",
            "Estadístico: 0.9012\n",
            "Valor p: 0.0000\n",
            "Interpretación: Los datos no tienen una distribución normal.\n",
            "\n",
            "Prueba de Shapiro-Wilk para Grupo privado:\n",
            "Estadístico: 0.9066\n",
            "Valor p: 0.0000\n",
            "Interpretación: Los datos no tienen una distribución normal.\n"
          ]
        }
      ]
    },
    {
      "cell_type": "code",
      "source": [
        "# Italia Alexandra Perez Gutierrez\n",
        "# Se verifica Homocedasticidad\n",
        "\n",
        "nivel_de_significancia = 0.05\n",
        "\n",
        "# Aplicar la prueba de Bartlett\n",
        "stat, p_value = bartlett(\n",
        "    df[df['tipo_escuela'] == 'publico']['puntaje_examen'],\n",
        "    df[df['tipo_escuela'] == 'privado']['puntaje_examen'],\n",
        ")\n",
        "\n",
        "# Resultados\n",
        "print(\"Estadístico de Bartlett:\", stat)\n",
        "print(\"Valor p:\", p_value)\n",
        "\n",
        "# Interpretación\n",
        "if p_value < nivel_de_significancia:\n",
        "    print(\"Rechazamos la hipótesis nula: Las varianzas no son iguales.\")\n",
        "else:\n",
        "    print(\"No podemos rechazar la hipótesis nula: Las varianzas son iguales.\")"
      ],
      "metadata": {
        "colab": {
          "base_uri": "https://localhost:8080/"
        },
        "outputId": "c5577ecc-a28d-4f16-e88f-0b596723086c",
        "id": "G-DrHzjF7Dmg"
      },
      "execution_count": 34,
      "outputs": [
        {
          "output_type": "stream",
          "name": "stdout",
          "text": [
            "Estadístico de Bartlett: 0.6627492740542013\n",
            "Valor p: 0.4155910208111073\n",
            "No podemos rechazar la hipótesis nula: Las varianzas son iguales.\n"
          ]
        }
      ]
    },
    {
      "cell_type": "code",
      "source": [
        "# Si todos los grupos tienen una distribución normal.\n",
        "# Si no cumplen con la normalidad, toman el resultado de la prueba de Kruskal\n",
        "#     y pueden usar los gráficos de Tukey para tomar una decisión (ignorando la tabla).\n",
        "#.    Estrictamente hablando, tendrían que realizar la prueba de Dunn.\n",
        "\n",
        "nivel_de_significancia = 0.05\n",
        "\n",
        "# Prueba de Tukey\n",
        "tukey = pairwise_tukeyhsd(endog=df['puntaje_examen'], groups=df['tipo_escuela'], alpha=nivel_de_significancia)\n",
        "\n",
        "# Mostrar los resultados\n",
        "print(tukey)\n",
        "\n",
        "# Gráfico de las diferencias entre grupos\n",
        "tukey.plot_simultaneous(ylabel=\"Grupos\", xlabel=\"Medias\")\n",
        "\n",
        "plt.gca().spines['right'].set_visible(False) # derecha\n",
        "plt.gca().spines['top'].set_visible(False)   # superior\n",
        "plt.title(\"Múltiples comparaciones entre todos los pares (Tukey)\")"
      ],
      "metadata": {
        "colab": {
          "base_uri": "https://localhost:8080/",
          "height": 687
        },
        "outputId": "6ee06aa4-e04c-4d61-a2d8-69e6cfd03aff",
        "id": "Sa0qATt78ffw"
      },
      "execution_count": 35,
      "outputs": [
        {
          "output_type": "stream",
          "name": "stdout",
          "text": [
            " Multiple Comparison of Means - Tukey HSD, FWER=0.05 \n",
            "=====================================================\n",
            " group1  group2 meandiff p-adj   lower  upper  reject\n",
            "-----------------------------------------------------\n",
            "privado publico  -0.0748 0.4723 -0.2788 0.1292  False\n",
            "-----------------------------------------------------\n"
          ]
        },
        {
          "output_type": "execute_result",
          "data": {
            "text/plain": [
              "Text(0.5, 1.0, 'Múltiples comparaciones entre todos los pares (Tukey)')"
            ]
          },
          "metadata": {},
          "execution_count": 35
        },
        {
          "output_type": "display_data",
          "data": {
            "text/plain": [
              "<Figure size 1000x600 with 1 Axes>"
            ],
            "image/png": "[encoded data removed]"
          },
          "metadata": {}
        }
      ]
    },
    {
      "cell_type": "markdown",
      "source": [
        "**Conclusión:** Se puede concluir que de cierta manera el hecho de encontrarse en una escuela pública disminuye el rendimiento del alumnado al momento de hacer exámenes, sin embargo, siento qu ambos secotres tanto privado como publico puede tener sus decadencias por lo que es dependiendo de la perspectiva"
      ],
      "metadata": {
        "id": "0B73kYsF-v8z"
      }
    },
    {
      "cell_type": "markdown",
      "source": [
        "**Influencia de Compañeros**"
      ],
      "metadata": {
        "id": "Hozf0w_s8pVx"
      }
    },
    {
      "cell_type": "code",
      "source": [
        "df['influencia_companieros'].unique()"
      ],
      "metadata": {
        "colab": {
          "base_uri": "https://localhost:8080/"
        },
        "id": "tN7J4TZp8rnR",
        "outputId": "33658f26-5912-46af-bb8c-f2a8084df65f"
      },
      "execution_count": 36,
      "outputs": [
        {
          "output_type": "execute_result",
          "data": {
            "text/plain": [
              "array(['positivo', 'negativo', 'neutral'], dtype=object)"
            ]
          },
          "metadata": {},
          "execution_count": 36
        }
      ]
    },
    {
      "cell_type": "code",
      "source": [
        "# Italia Alexandra Perez Gutierrez\n",
        "#Se comprueba la Normalidad con Shapiro\n",
        "\n",
        "nivel_de_significancia = 0.05\n",
        "\n",
        "# Función para realizar la prueba de Shapiro-Wilk y mostrar interpretación\n",
        "# NO MODIFICAR\n",
        "def prueba_shapiro(datos, nombre_grupo, nivel_de_significancia):\n",
        "    stat, p = shapiro(datos)\n",
        "    print(f\"\\nPrueba de Shapiro-Wilk para {nombre_grupo}:\")\n",
        "    print(f\"Estadístico: {stat:.4f}\")\n",
        "    print(f\"Valor p: {p:.4f}\")\n",
        "    if p > nivel_de_significancia:\n",
        "        print(\"Interpretación: Los datos tienen una distribución normal.\")\n",
        "    else:\n",
        "        print(\"Interpretación: Los datos no tienen una distribución normal.\")\n",
        "\n",
        "# Aplicar la prueba a cada grupo (parte modificable)\n",
        "prueba_shapiro(df[df['influencia_companieros'] == 'positivo']['puntaje_examen'], \"Grupo positivo\", nivel_de_significancia)\n",
        "prueba_shapiro(df[df['influencia_companieros'] == 'negativo']['puntaje_examen'], \"Grupo negativo\", nivel_de_significancia)\n",
        "prueba_shapiro(df[df['influencia_companieros'] == 'neutral']['puntaje_examen'], \"Grupo neutral\", nivel_de_significancia)"
      ],
      "metadata": {
        "colab": {
          "base_uri": "https://localhost:8080/"
        },
        "outputId": "27ac0e2f-c4e1-44fd-a718-a753f2f2dac6",
        "id": "3LiXMPLR8zdC"
      },
      "execution_count": 37,
      "outputs": [
        {
          "output_type": "stream",
          "name": "stdout",
          "text": [
            "\n",
            "Prueba de Shapiro-Wilk para Grupo positivo:\n",
            "Estadístico: 0.8999\n",
            "Valor p: 0.0000\n",
            "Interpretación: Los datos no tienen una distribución normal.\n",
            "\n",
            "Prueba de Shapiro-Wilk para Grupo negativo:\n",
            "Estadístico: 0.8961\n",
            "Valor p: 0.0000\n",
            "Interpretación: Los datos no tienen una distribución normal.\n",
            "\n",
            "Prueba de Shapiro-Wilk para Grupo neutral:\n",
            "Estadístico: 0.9047\n",
            "Valor p: 0.0000\n",
            "Interpretación: Los datos no tienen una distribución normal.\n"
          ]
        }
      ]
    },
    {
      "cell_type": "code",
      "source": [
        "# Italia Alexandra Perez Gutierrez\n",
        "# Se verifica Homocedasticidad\n",
        "\n",
        "nivel_de_significancia = 0.05\n",
        "\n",
        "# Aplicar la prueba de Bartlett\n",
        "stat, p_value = bartlett(\n",
        "    df[df['influencia_companieros'] == 'positivo']['puntaje_examen'],\n",
        "    df[df['influencia_companieros'] == 'negativo']['puntaje_examen'],\n",
        ")\n",
        "\n",
        "# Resultados\n",
        "print(\"Estadístico de Bartlett:\", stat)\n",
        "print(\"Valor p:\", p_value)\n",
        "\n",
        "# Interpretación\n",
        "if p_value < nivel_de_significancia:\n",
        "    print(\"Rechazamos la hipótesis nula: Las varianzas no son iguales.\")\n",
        "else:\n",
        "    print(\"No podemos rechazar la hipótesis nula: Las varianzas son iguales.\")"
      ],
      "metadata": {
        "colab": {
          "base_uri": "https://localhost:8080/"
        },
        "outputId": "dbe27ce9-f214-4b37-9e4a-e4bdf14afbd1",
        "id": "fb_U7c139Q4B"
      },
      "execution_count": 38,
      "outputs": [
        {
          "output_type": "stream",
          "name": "stdout",
          "text": [
            "Estadístico de Bartlett: 0.9992389228019672\n",
            "Valor p: 0.31749473636999387\n",
            "No podemos rechazar la hipótesis nula: Las varianzas son iguales.\n"
          ]
        }
      ]
    },
    {
      "cell_type": "code",
      "source": [
        "# Si todos los grupos tienen una distribución normal.\n",
        "# Si no cumplen con la normalidad, toman el resultado de la prueba de Kruskal\n",
        "#     y pueden usar los gráficos de Tukey para tomar una decisión (ignorando la tabla).\n",
        "#.    Estrictamente hablando, tendrían que realizar la prueba de Dunn.\n",
        "\n",
        "nivel_de_significancia = 0.05\n",
        "\n",
        "# Prueba de Tukey\n",
        "tukey = pairwise_tukeyhsd(endog=df['puntaje_examen'], groups=df['influencia_companieros'], alpha=nivel_de_significancia)\n",
        "\n",
        "# Mostrar los resultados\n",
        "print(tukey)\n",
        "\n",
        "# Gráfico de las diferencias entre grupos\n",
        "tukey.plot_simultaneous(ylabel=\"Grupos\", xlabel=\"Medias\")\n",
        "\n",
        "plt.gca().spines['right'].set_visible(False) # derecha\n",
        "plt.gca().spines['top'].set_visible(False)   # superior\n",
        "plt.title(\"Múltiples comparaciones entre todos los pares (Tukey)\")"
      ],
      "metadata": {
        "colab": {
          "base_uri": "https://localhost:8080/",
          "height": 721
        },
        "outputId": "91b9d7ae-815d-4198-aa09-6400af05433e",
        "id": "WFGBU8B69Uux"
      },
      "execution_count": 39,
      "outputs": [
        {
          "output_type": "stream",
          "name": "stdout",
          "text": [
            " Multiple Comparison of Means - Tukey HSD, FWER=0.05  \n",
            "======================================================\n",
            " group1   group2  meandiff p-adj  lower  upper  reject\n",
            "------------------------------------------------------\n",
            "negativo  neutral   0.6336    0.0  0.331 0.9363   True\n",
            "negativo positivo   1.0589    0.0 0.7572 1.3606   True\n",
            " neutral positivo   0.4253 0.0002 0.1743 0.6763   True\n",
            "------------------------------------------------------\n"
          ]
        },
        {
          "output_type": "execute_result",
          "data": {
            "text/plain": [
              "Text(0.5, 1.0, 'Múltiples comparaciones entre todos los pares (Tukey)')"
            ]
          },
          "metadata": {},
          "execution_count": 39
        },
        {
          "output_type": "display_data",
          "data": {
            "text/plain": [
              "<Figure size 1000x600 with 1 Axes>"
            ],
            "image/png": "[encoded data removed]"
          },
          "metadata": {}
        }
      ]
    },
    {
      "cell_type": "markdown",
      "source": [
        "**Conclusión:** Se puede concluir que dependiendo de la influencia de los compañeros afecta directamente a las calificaciones de los alumnados, de cierta manera se tendría que buscar acomodar a los alumnos de manera estratégica para que haya un equilibrio entre las influencias de cada uno, sin embargo es inevitable ya que depende de las relaciones amistosas que se tengan"
      ],
      "metadata": {
        "id": "TfFn92OI-ym6"
      }
    },
    {
      "cell_type": "markdown",
      "source": [
        "**Discapacidad de Aprendizaje**"
      ],
      "metadata": {
        "id": "9KKLEQy578Dq"
      }
    },
    {
      "cell_type": "code",
      "source": [
        "df['discapacidad_aprendizaje'].unique()"
      ],
      "metadata": {
        "colab": {
          "base_uri": "https://localhost:8080/"
        },
        "outputId": "4748dad0-c8fa-4c31-c731-31fde1837df5",
        "id": "osu8qytL8Gtz"
      },
      "execution_count": 40,
      "outputs": [
        {
          "output_type": "execute_result",
          "data": {
            "text/plain": [
              "array(['no', 'si'], dtype=object)"
            ]
          },
          "metadata": {},
          "execution_count": 40
        }
      ]
    },
    {
      "cell_type": "code",
      "source": [
        "# Italia Alexandra Perez Gutierrez\n",
        "#Se comprueba la Normalidad con Shapiro\n",
        "\n",
        "nivel_de_significancia = 0.05\n",
        "\n",
        "# Función para realizar la prueba de Shapiro-Wilk y mostrar interpretación\n",
        "# NO MODIFICAR\n",
        "def prueba_shapiro(datos, nombre_grupo, nivel_de_significancia):\n",
        "    stat, p = shapiro(datos)\n",
        "    print(f\"\\nPrueba de Shapiro-Wilk para {nombre_grupo}:\")\n",
        "    print(f\"Estadístico: {stat:.4f}\")\n",
        "    print(f\"Valor p: {p:.4f}\")\n",
        "    if p > nivel_de_significancia:\n",
        "        print(\"Interpretación: Los datos tienen una distribución normal.\")\n",
        "    else:\n",
        "        print(\"Interpretación: Los datos no tienen una distribución normal.\")\n",
        "\n",
        "# Aplicar la prueba a cada grupo (parte modificable)\n",
        "prueba_shapiro(df[df['discapacidad_aprendizaje'] == 'no']['puntaje_examen'], \"Grupo no\", nivel_de_significancia)\n",
        "prueba_shapiro(df[df['discapacidad_aprendizaje'] == 'si']['puntaje_examen'], \"Grupo si\", nivel_de_significancia)\n",
        "\n"
      ],
      "metadata": {
        "colab": {
          "base_uri": "https://localhost:8080/"
        },
        "outputId": "1c97f12e-9083-42f4-c30d-e564861a4315",
        "id": "gKirtDL3HMuP"
      },
      "execution_count": 41,
      "outputs": [
        {
          "output_type": "stream",
          "name": "stdout",
          "text": [
            "\n",
            "Prueba de Shapiro-Wilk para Grupo no:\n",
            "Estadístico: 0.8978\n",
            "Valor p: 0.0000\n",
            "Interpretación: Los datos no tienen una distribución normal.\n",
            "\n",
            "Prueba de Shapiro-Wilk para Grupo si:\n",
            "Estadístico: 0.9199\n",
            "Valor p: 0.0000\n",
            "Interpretación: Los datos no tienen una distribución normal.\n"
          ]
        }
      ]
    },
    {
      "cell_type": "code",
      "source": [
        "# Italia Alexandra Perez Gutierrez\n",
        "# Se verifica Homocedasticidad\n",
        "\n",
        "nivel_de_significancia = 0.05\n",
        "\n",
        "# Aplicar la prueba de Bartlett\n",
        "stat, p_value = bartlett(\n",
        "    df[df['discapacidad_aprendizaje'] == 'no']['puntaje_examen'],\n",
        "    df[df['discapacidad_aprendizaje'] == 'si']['puntaje_examen'],\n",
        ")\n",
        "\n",
        "# Resultados\n",
        "print(\"Estadístico de Bartlett:\", stat)\n",
        "print(\"Valor p:\", p_value)\n",
        "\n",
        "# Interpretación\n",
        "if p_value < nivel_de_significancia:\n",
        "    print(\"Rechazamos la hipótesis nula: Las varianzas no son iguales.\")\n",
        "else:\n",
        "    print(\"No podemos rechazar la hipótesis nula: Las varianzas son iguales.\")"
      ],
      "metadata": {
        "colab": {
          "base_uri": "https://localhost:8080/"
        },
        "outputId": "71605069-d12b-4d49-88c7-7ed259bd36fc",
        "id": "7ghB1DecHfzA"
      },
      "execution_count": 42,
      "outputs": [
        {
          "output_type": "stream",
          "name": "stdout",
          "text": [
            "Estadístico de Bartlett: 3.7492767841099206\n",
            "Valor p: 0.05283036528358442\n",
            "No podemos rechazar la hipótesis nula: Las varianzas son iguales.\n"
          ]
        }
      ]
    },
    {
      "cell_type": "code",
      "source": [
        "# Si todos los grupos tienen una distribución normal.\n",
        "# Si no cumplen con la normalidad, toman el resultado de la prueba de Kruskal\n",
        "#     y pueden usar los gráficos de Tukey para tomar una decisión (ignorando la tabla).\n",
        "#.    Estrictamente hablando, tendrían que realizar la prueba de Dunn.\n",
        "\n",
        "nivel_de_significancia = 0.05\n",
        "\n",
        "# Prueba de Tukey\n",
        "tukey = pairwise_tukeyhsd(endog=df['puntaje_examen'], groups=df['discapacidad_aprendizaje'], alpha=nivel_de_significancia)\n",
        "\n",
        "# Mostrar los resultados\n",
        "print(tukey)\n",
        "\n",
        "# Gráfico de las diferencias entre grupos\n",
        "tukey.plot_simultaneous(ylabel=\"Grupos\", xlabel=\"Medias\")\n",
        "\n",
        "plt.gca().spines['right'].set_visible(False) # derecha\n",
        "plt.gca().spines['top'].set_visible(False)   # superior\n",
        "plt.title(\"Múltiples comparaciones entre todos los pares (Tukey)\")"
      ],
      "metadata": {
        "colab": {
          "base_uri": "https://localhost:8080/",
          "height": 687
        },
        "outputId": "e7301c12-8b7c-48da-ca96-af10c58e5e03",
        "id": "g-XneMSYHq0T"
      },
      "execution_count": 43,
      "outputs": [
        {
          "output_type": "stream",
          "name": "stdout",
          "text": [
            "Multiple Comparison of Means - Tukey HSD, FWER=0.05\n",
            "===================================================\n",
            "group1 group2 meandiff p-adj  lower   upper  reject\n",
            "---------------------------------------------------\n",
            "    no     si  -1.0786   0.0 -1.3834 -0.7739   True\n",
            "---------------------------------------------------\n"
          ]
        },
        {
          "output_type": "execute_result",
          "data": {
            "text/plain": [
              "Text(0.5, 1.0, 'Múltiples comparaciones entre todos los pares (Tukey)')"
            ]
          },
          "metadata": {},
          "execution_count": 43
        },
        {
          "output_type": "display_data",
          "data": {
            "text/plain": [
              "<Figure size 1000x600 with 1 Axes>"
            ],
            "image/png": "[encoded data removed]"
          },
          "metadata": {}
        }
      ]
    },
    {
      "cell_type": "markdown",
      "source": [
        "**Conclusión:** Se podría decir que el tener una discapcidad de aprendizaje, ya sea tdah, etc. es realmente un factor que afecta a las calificaciones en los examenes de los alumnos por lo que se buscaría que los profesores encontraran alguna manera de adaptar las clases al metodo de entendimiento de cada alumno que padezca de alguna de estas discapacidades, ya que se buscaría el aprendizaje de todos independientemente de eso."
      ],
      "metadata": {
        "id": "vWxfEQKU-1Ry"
      }
    },
    {
      "cell_type": "markdown",
      "source": [
        "**Genero**"
      ],
      "metadata": {
        "id": "AyyDFCPwI4V9"
      }
    },
    {
      "cell_type": "code",
      "source": [
        "df['genero'].unique()"
      ],
      "metadata": {
        "colab": {
          "base_uri": "https://localhost:8080/"
        },
        "outputId": "21fc462a-cf28-4f49-de44-dee2c89478d0",
        "id": "vYOpzyDtI-BK"
      },
      "execution_count": 44,
      "outputs": [
        {
          "output_type": "execute_result",
          "data": {
            "text/plain": [
              "array(['hombre', 'mujer'], dtype=object)"
            ]
          },
          "metadata": {},
          "execution_count": 44
        }
      ]
    },
    {
      "cell_type": "code",
      "source": [
        "# Italia Alexandra Perez Gutierrez\n",
        "#Se comprueba la Normalidad con Shapiro\n",
        "\n",
        "nivel_de_significancia = 0.05\n",
        "\n",
        "# Función para realizar la prueba de Shapiro-Wilk y mostrar interpretación\n",
        "# NO MODIFICAR\n",
        "def prueba_shapiro(datos, nombre_grupo, nivel_de_significancia):\n",
        "    stat, p = shapiro(datos)\n",
        "    print(f\"\\nPrueba de Shapiro-Wilk para {nombre_grupo}:\")\n",
        "    print(f\"Estadístico: {stat:.4f}\")\n",
        "    print(f\"Valor p: {p:.4f}\")\n",
        "    if p > nivel_de_significancia:\n",
        "        print(\"Interpretación: Los datos tienen una distribución normal.\")\n",
        "    else:\n",
        "        print(\"Interpretación: Los datos no tienen una distribución normal.\")\n",
        "\n",
        "# Aplicar la prueba a cada grupo (parte modificable)\n",
        "prueba_shapiro(df[df['genero'] == 'hombre']['puntaje_examen'], \"Grupo hombre\", nivel_de_significancia)\n",
        "prueba_shapiro(df[df['genero'] == 'mujer']['puntaje_examen'], \"Grupo mujer\", nivel_de_significancia)\n",
        "\n"
      ],
      "metadata": {
        "colab": {
          "base_uri": "https://localhost:8080/"
        },
        "outputId": "7da84318-7bbb-4ec6-b491-1c67246e933e",
        "id": "TpgRV3KKJDrv"
      },
      "execution_count": 45,
      "outputs": [
        {
          "output_type": "stream",
          "name": "stdout",
          "text": [
            "\n",
            "Prueba de Shapiro-Wilk para Grupo hombre:\n",
            "Estadístico: 0.9231\n",
            "Valor p: 0.0000\n",
            "Interpretación: Los datos no tienen una distribución normal.\n",
            "\n",
            "Prueba de Shapiro-Wilk para Grupo mujer:\n",
            "Estadístico: 0.8785\n",
            "Valor p: 0.0000\n",
            "Interpretación: Los datos no tienen una distribución normal.\n"
          ]
        }
      ]
    },
    {
      "cell_type": "code",
      "source": [
        "# Italia Alexandra Perez Gutierrez\n",
        "# Se verifica Homocedasticidad\n",
        "\n",
        "nivel_de_significancia = 0.05\n",
        "\n",
        "# Aplicar la prueba de Bartlett\n",
        "stat, p_value = bartlett(\n",
        "   df[df['genero'] == 'hombre']['puntaje_examen'],\n",
        "   df[df['genero'] == 'mujer']['puntaje_examen'],\n",
        "\n",
        ")\n",
        "\n",
        "# Resultados\n",
        "print(\"Estadístico de Bartlett:\", stat)\n",
        "print(\"Valor p:\", p_value)\n",
        "\n",
        "# Interpretación\n",
        "if p_value < nivel_de_significancia:\n",
        "    print(\"Rechazamos la hipótesis nula: Las varianzas no son iguales.\")\n",
        "else:\n",
        "    print(\"No podemos rechazar la hipótesis nula: Las varianzas son iguales.\")"
      ],
      "metadata": {
        "colab": {
          "base_uri": "https://localhost:8080/"
        },
        "outputId": "469fd3bb-4007-44da-fdfe-44bb28f5182f",
        "id": "vJVVrm9SJsj_"
      },
      "execution_count": 46,
      "outputs": [
        {
          "output_type": "stream",
          "name": "stdout",
          "text": [
            "Estadístico de Bartlett: 17.6278138497903\n",
            "Valor p: 2.6863070990031985e-05\n",
            "Rechazamos la hipótesis nula: Las varianzas no son iguales.\n"
          ]
        }
      ]
    },
    {
      "cell_type": "code",
      "source": [
        "# Si todos los grupos tienen una distribución normal.\n",
        "# Si no cumplen con la normalidad, toman el resultado de la prueba de Kruskal\n",
        "#     y pueden usar los gráficos de Tukey para tomar una decisión (ignorando la tabla).\n",
        "#.    Estrictamente hablando, tendrían que realizar la prueba de Dunn.\n",
        "\n",
        "nivel_de_significancia = 0.05\n",
        "\n",
        "# Prueba de Tukey\n",
        "tukey = pairwise_tukeyhsd(endog=df['puntaje_examen'], groups=df['genero'], alpha=nivel_de_significancia)\n",
        "\n",
        "# Mostrar los resultados\n",
        "print(tukey)\n",
        "\n",
        "# Gráfico de las diferencias entre grupos\n",
        "tukey.plot_simultaneous(ylabel=\"Grupos\", xlabel=\"Medias\")\n",
        "\n",
        "plt.gca().spines['right'].set_visible(False) # derecha\n",
        "plt.gca().spines['top'].set_visible(False)   # superior\n",
        "plt.title(\"Múltiples comparaciones entre todos los pares (Tukey)\")"
      ],
      "metadata": {
        "colab": {
          "base_uri": "https://localhost:8080/",
          "height": 687
        },
        "outputId": "f805379d-a6ab-4527-b2e2-77a46c5778d7",
        "id": "mj8bJWVdJ1uK"
      },
      "execution_count": 47,
      "outputs": [
        {
          "output_type": "stream",
          "name": "stdout",
          "text": [
            "Multiple Comparison of Means - Tukey HSD, FWER=0.05\n",
            "==================================================\n",
            "group1 group2 meandiff p-adj   lower  upper reject\n",
            "--------------------------------------------------\n",
            "hombre  mujer    0.016 0.8688 -0.1739 0.206  False\n",
            "--------------------------------------------------\n"
          ]
        },
        {
          "output_type": "execute_result",
          "data": {
            "text/plain": [
              "Text(0.5, 1.0, 'Múltiples comparaciones entre todos los pares (Tukey)')"
            ]
          },
          "metadata": {},
          "execution_count": 47
        },
        {
          "output_type": "display_data",
          "data": {
            "text/plain": [
              "<Figure size 1000x600 with 1 Axes>"
            ],
            "image/png": "[encoded data removed]"
          },
          "metadata": {}
        }
      ]
    },
    {
      "cell_type": "markdown",
      "source": [
        "**Conclusión:** Se puede concluir que hay un promedio o se mantienen muy estables las calificaciones entre hobres y mujeres, sin embargo se puede visualizar que el rango de chicas es más aprobatorio por muy poco y tienen mejores calificaciones, sin embargo pues habría que buscar técnicas para mejorar el desempeño de todos en general"
      ],
      "metadata": {
        "id": "t74a6wyk-3xK"
      }
    },
    {
      "cell_type": "markdown",
      "source": [
        "# Conclusión General"
      ],
      "metadata": {
        "id": "CK3VEcJtK5yc"
      }
    },
    {
      "cell_type": "markdown",
      "source": [
        "Se puede visualizar en el documento en general, que hay distintos factores que influyen no solo en el nivel de aprendizaje del alumnado sino que se muestran en las calificaciones de sus examenes, además solo se necesita de buscar la manera de brindrle mejores técnicas de estudio y aprendizaje al alumnado para que aprenda. En un punto más técnico se diría que la mayoía sino es que todos los factores solo cumplían con un supuesto por lo que era más complicado el hecho de utilizar Annova para obtener una conclusión sobre los supuestos, y por eso se utilizó más el método Kruskal para obtener una conclusión de los datos."
      ],
      "metadata": {
        "id": "h8JG-smkK77A"
      }
    }
  ]
}